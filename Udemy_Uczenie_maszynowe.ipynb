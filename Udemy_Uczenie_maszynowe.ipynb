{
  "nbformat": 4,
  "nbformat_minor": 0,
  "metadata": {
    "colab": {
      "provenance": [],
      "authorship_tag": "ABX9TyMaioTpBN446JErb51MeZRC",
      "include_colab_link": true
    },
    "kernelspec": {
      "name": "python3",
      "display_name": "Python 3"
    },
    "language_info": {
      "name": "python"
    }
  },
  "cells": [
    {
      "cell_type": "markdown",
      "metadata": {
        "id": "view-in-github",
        "colab_type": "text"
      },
      "source": [
        "<a href=\"https://colab.research.google.com/github/JoannaRaczek/Uczenie-maszynowe/blob/main/Udemy_Uczenie_maszynowe.ipynb\" target=\"_parent\"><img src=\"https://colab.research.google.com/assets/colab-badge.svg\" alt=\"Open In Colab\"/></a>"
      ]
    },
    {
      "cell_type": "code",
      "execution_count": null,
      "metadata": {
        "id": "StXBHYUsNcEq"
      },
      "outputs": [],
      "source": [
        "import pandas as pd\n",
        "import matplotlib.pyplot as plt\n",
        "%matplotlib inline\n",
        "from sklearn.linear_model import LinearRegression"
      ]
    },
    {
      "cell_type": "code",
      "source": [
        "auto = pd.read_csv(\"auto-mpg.csv\")\n",
        "auto"
      ],
      "metadata": {
        "colab": {
          "base_uri": "https://localhost:8080/",
          "height": 424
        },
        "id": "oU58hEHLRZ6-",
        "outputId": "46deec30-6e2e-4b34-c9e7-a8f753297a03"
      },
      "execution_count": null,
      "outputs": [
        {
          "output_type": "execute_result",
          "data": {
            "text/plain": [
              "      mpg  cylinders  displacement horsepower  weight  acceleration  \\\n",
              "0    18.0          8         307.0        130    3504          12.0   \n",
              "1    15.0          8         350.0        165    3693          11.5   \n",
              "2    18.0          8         318.0        150    3436          11.0   \n",
              "3    16.0          8         304.0        150    3433          12.0   \n",
              "4    17.0          8         302.0        140    3449          10.5   \n",
              "..    ...        ...           ...        ...     ...           ...   \n",
              "393  27.0          4         140.0         86    2790          15.6   \n",
              "394  44.0          4          97.0         52    2130          24.6   \n",
              "395  32.0          4         135.0         84    2295          11.6   \n",
              "396  28.0          4         120.0         79    2625          18.6   \n",
              "397  31.0          4         119.0         82    2720          19.4   \n",
              "\n",
              "     model year  origin                   car name  \n",
              "0            70       1  chevrolet chevelle malibu  \n",
              "1            70       1          buick skylark 320  \n",
              "2            70       1         plymouth satellite  \n",
              "3            70       1              amc rebel sst  \n",
              "4            70       1                ford torino  \n",
              "..          ...     ...                        ...  \n",
              "393          82       1            ford mustang gl  \n",
              "394          82       2                  vw pickup  \n",
              "395          82       1              dodge rampage  \n",
              "396          82       1                ford ranger  \n",
              "397          82       1                 chevy s-10  \n",
              "\n",
              "[398 rows x 9 columns]"
            ],
            "text/html": [
              "\n",
              "  <div id=\"df-16edb2d4-e8d3-449e-abc7-225995048741\">\n",
              "    <div class=\"colab-df-container\">\n",
              "      <div>\n",
              "<style scoped>\n",
              "    .dataframe tbody tr th:only-of-type {\n",
              "        vertical-align: middle;\n",
              "    }\n",
              "\n",
              "    .dataframe tbody tr th {\n",
              "        vertical-align: top;\n",
              "    }\n",
              "\n",
              "    .dataframe thead th {\n",
              "        text-align: right;\n",
              "    }\n",
              "</style>\n",
              "<table border=\"1\" class=\"dataframe\">\n",
              "  <thead>\n",
              "    <tr style=\"text-align: right;\">\n",
              "      <th></th>\n",
              "      <th>mpg</th>\n",
              "      <th>cylinders</th>\n",
              "      <th>displacement</th>\n",
              "      <th>horsepower</th>\n",
              "      <th>weight</th>\n",
              "      <th>acceleration</th>\n",
              "      <th>model year</th>\n",
              "      <th>origin</th>\n",
              "      <th>car name</th>\n",
              "    </tr>\n",
              "  </thead>\n",
              "  <tbody>\n",
              "    <tr>\n",
              "      <th>0</th>\n",
              "      <td>18.0</td>\n",
              "      <td>8</td>\n",
              "      <td>307.0</td>\n",
              "      <td>130</td>\n",
              "      <td>3504</td>\n",
              "      <td>12.0</td>\n",
              "      <td>70</td>\n",
              "      <td>1</td>\n",
              "      <td>chevrolet chevelle malibu</td>\n",
              "    </tr>\n",
              "    <tr>\n",
              "      <th>1</th>\n",
              "      <td>15.0</td>\n",
              "      <td>8</td>\n",
              "      <td>350.0</td>\n",
              "      <td>165</td>\n",
              "      <td>3693</td>\n",
              "      <td>11.5</td>\n",
              "      <td>70</td>\n",
              "      <td>1</td>\n",
              "      <td>buick skylark 320</td>\n",
              "    </tr>\n",
              "    <tr>\n",
              "      <th>2</th>\n",
              "      <td>18.0</td>\n",
              "      <td>8</td>\n",
              "      <td>318.0</td>\n",
              "      <td>150</td>\n",
              "      <td>3436</td>\n",
              "      <td>11.0</td>\n",
              "      <td>70</td>\n",
              "      <td>1</td>\n",
              "      <td>plymouth satellite</td>\n",
              "    </tr>\n",
              "    <tr>\n",
              "      <th>3</th>\n",
              "      <td>16.0</td>\n",
              "      <td>8</td>\n",
              "      <td>304.0</td>\n",
              "      <td>150</td>\n",
              "      <td>3433</td>\n",
              "      <td>12.0</td>\n",
              "      <td>70</td>\n",
              "      <td>1</td>\n",
              "      <td>amc rebel sst</td>\n",
              "    </tr>\n",
              "    <tr>\n",
              "      <th>4</th>\n",
              "      <td>17.0</td>\n",
              "      <td>8</td>\n",
              "      <td>302.0</td>\n",
              "      <td>140</td>\n",
              "      <td>3449</td>\n",
              "      <td>10.5</td>\n",
              "      <td>70</td>\n",
              "      <td>1</td>\n",
              "      <td>ford torino</td>\n",
              "    </tr>\n",
              "    <tr>\n",
              "      <th>...</th>\n",
              "      <td>...</td>\n",
              "      <td>...</td>\n",
              "      <td>...</td>\n",
              "      <td>...</td>\n",
              "      <td>...</td>\n",
              "      <td>...</td>\n",
              "      <td>...</td>\n",
              "      <td>...</td>\n",
              "      <td>...</td>\n",
              "    </tr>\n",
              "    <tr>\n",
              "      <th>393</th>\n",
              "      <td>27.0</td>\n",
              "      <td>4</td>\n",
              "      <td>140.0</td>\n",
              "      <td>86</td>\n",
              "      <td>2790</td>\n",
              "      <td>15.6</td>\n",
              "      <td>82</td>\n",
              "      <td>1</td>\n",
              "      <td>ford mustang gl</td>\n",
              "    </tr>\n",
              "    <tr>\n",
              "      <th>394</th>\n",
              "      <td>44.0</td>\n",
              "      <td>4</td>\n",
              "      <td>97.0</td>\n",
              "      <td>52</td>\n",
              "      <td>2130</td>\n",
              "      <td>24.6</td>\n",
              "      <td>82</td>\n",
              "      <td>2</td>\n",
              "      <td>vw pickup</td>\n",
              "    </tr>\n",
              "    <tr>\n",
              "      <th>395</th>\n",
              "      <td>32.0</td>\n",
              "      <td>4</td>\n",
              "      <td>135.0</td>\n",
              "      <td>84</td>\n",
              "      <td>2295</td>\n",
              "      <td>11.6</td>\n",
              "      <td>82</td>\n",
              "      <td>1</td>\n",
              "      <td>dodge rampage</td>\n",
              "    </tr>\n",
              "    <tr>\n",
              "      <th>396</th>\n",
              "      <td>28.0</td>\n",
              "      <td>4</td>\n",
              "      <td>120.0</td>\n",
              "      <td>79</td>\n",
              "      <td>2625</td>\n",
              "      <td>18.6</td>\n",
              "      <td>82</td>\n",
              "      <td>1</td>\n",
              "      <td>ford ranger</td>\n",
              "    </tr>\n",
              "    <tr>\n",
              "      <th>397</th>\n",
              "      <td>31.0</td>\n",
              "      <td>4</td>\n",
              "      <td>119.0</td>\n",
              "      <td>82</td>\n",
              "      <td>2720</td>\n",
              "      <td>19.4</td>\n",
              "      <td>82</td>\n",
              "      <td>1</td>\n",
              "      <td>chevy s-10</td>\n",
              "    </tr>\n",
              "  </tbody>\n",
              "</table>\n",
              "<p>398 rows × 9 columns</p>\n",
              "</div>\n",
              "      <button class=\"colab-df-convert\" onclick=\"convertToInteractive('df-16edb2d4-e8d3-449e-abc7-225995048741')\"\n",
              "              title=\"Convert this dataframe to an interactive table.\"\n",
              "              style=\"display:none;\">\n",
              "        \n",
              "  <svg xmlns=\"http://www.w3.org/2000/svg\" height=\"24px\"viewBox=\"0 0 24 24\"\n",
              "       width=\"24px\">\n",
              "    <path d=\"M0 0h24v24H0V0z\" fill=\"none\"/>\n",
              "    <path d=\"M18.56 5.44l.94 2.06.94-2.06 2.06-.94-2.06-.94-.94-2.06-.94 2.06-2.06.94zm-11 1L8.5 8.5l.94-2.06 2.06-.94-2.06-.94L8.5 2.5l-.94 2.06-2.06.94zm10 10l.94 2.06.94-2.06 2.06-.94-2.06-.94-.94-2.06-.94 2.06-2.06.94z\"/><path d=\"M17.41 7.96l-1.37-1.37c-.4-.4-.92-.59-1.43-.59-.52 0-1.04.2-1.43.59L10.3 9.45l-7.72 7.72c-.78.78-.78 2.05 0 2.83L4 21.41c.39.39.9.59 1.41.59.51 0 1.02-.2 1.41-.59l7.78-7.78 2.81-2.81c.8-.78.8-2.07 0-2.86zM5.41 20L4 18.59l7.72-7.72 1.47 1.35L5.41 20z\"/>\n",
              "  </svg>\n",
              "      </button>\n",
              "      \n",
              "  <style>\n",
              "    .colab-df-container {\n",
              "      display:flex;\n",
              "      flex-wrap:wrap;\n",
              "      gap: 12px;\n",
              "    }\n",
              "\n",
              "    .colab-df-convert {\n",
              "      background-color: #E8F0FE;\n",
              "      border: none;\n",
              "      border-radius: 50%;\n",
              "      cursor: pointer;\n",
              "      display: none;\n",
              "      fill: #1967D2;\n",
              "      height: 32px;\n",
              "      padding: 0 0 0 0;\n",
              "      width: 32px;\n",
              "    }\n",
              "\n",
              "    .colab-df-convert:hover {\n",
              "      background-color: #E2EBFA;\n",
              "      box-shadow: 0px 1px 2px rgba(60, 64, 67, 0.3), 0px 1px 3px 1px rgba(60, 64, 67, 0.15);\n",
              "      fill: #174EA6;\n",
              "    }\n",
              "\n",
              "    [theme=dark] .colab-df-convert {\n",
              "      background-color: #3B4455;\n",
              "      fill: #D2E3FC;\n",
              "    }\n",
              "\n",
              "    [theme=dark] .colab-df-convert:hover {\n",
              "      background-color: #434B5C;\n",
              "      box-shadow: 0px 1px 3px 1px rgba(0, 0, 0, 0.15);\n",
              "      filter: drop-shadow(0px 1px 2px rgba(0, 0, 0, 0.3));\n",
              "      fill: #FFFFFF;\n",
              "    }\n",
              "  </style>\n",
              "\n",
              "      <script>\n",
              "        const buttonEl =\n",
              "          document.querySelector('#df-16edb2d4-e8d3-449e-abc7-225995048741 button.colab-df-convert');\n",
              "        buttonEl.style.display =\n",
              "          google.colab.kernel.accessAllowed ? 'block' : 'none';\n",
              "\n",
              "        async function convertToInteractive(key) {\n",
              "          const element = document.querySelector('#df-16edb2d4-e8d3-449e-abc7-225995048741');\n",
              "          const dataTable =\n",
              "            await google.colab.kernel.invokeFunction('convertToInteractive',\n",
              "                                                     [key], {});\n",
              "          if (!dataTable) return;\n",
              "\n",
              "          const docLinkHtml = 'Like what you see? Visit the ' +\n",
              "            '<a target=\"_blank\" href=https://colab.research.google.com/notebooks/data_table.ipynb>data table notebook</a>'\n",
              "            + ' to learn more about interactive tables.';\n",
              "          element.innerHTML = '';\n",
              "          dataTable['output_type'] = 'display_data';\n",
              "          await google.colab.output.renderOutput(dataTable, element);\n",
              "          const docLink = document.createElement('div');\n",
              "          docLink.innerHTML = docLinkHtml;\n",
              "          element.appendChild(docLink);\n",
              "        }\n",
              "      </script>\n",
              "    </div>\n",
              "  </div>\n",
              "  "
            ]
          },
          "metadata": {},
          "execution_count": 3
        }
      ]
    },
    {
      "cell_type": "code",
      "source": [
        "auto.head()"
      ],
      "metadata": {
        "colab": {
          "base_uri": "https://localhost:8080/",
          "height": 206
        },
        "id": "e5prHJe0ST7N",
        "outputId": "cf3081d2-d885-42a6-bb20-b3c95b4d86ec"
      },
      "execution_count": null,
      "outputs": [
        {
          "output_type": "execute_result",
          "data": {
            "text/plain": [
              "    mpg  cylinders  displacement horsepower  weight  acceleration  model year  \\\n",
              "0  18.0          8         307.0        130    3504          12.0          70   \n",
              "1  15.0          8         350.0        165    3693          11.5          70   \n",
              "2  18.0          8         318.0        150    3436          11.0          70   \n",
              "3  16.0          8         304.0        150    3433          12.0          70   \n",
              "4  17.0          8         302.0        140    3449          10.5          70   \n",
              "\n",
              "   origin                   car name  \n",
              "0       1  chevrolet chevelle malibu  \n",
              "1       1          buick skylark 320  \n",
              "2       1         plymouth satellite  \n",
              "3       1              amc rebel sst  \n",
              "4       1                ford torino  "
            ],
            "text/html": [
              "\n",
              "  <div id=\"df-5eae72af-ca43-4673-839b-dcde79cc3fd2\">\n",
              "    <div class=\"colab-df-container\">\n",
              "      <div>\n",
              "<style scoped>\n",
              "    .dataframe tbody tr th:only-of-type {\n",
              "        vertical-align: middle;\n",
              "    }\n",
              "\n",
              "    .dataframe tbody tr th {\n",
              "        vertical-align: top;\n",
              "    }\n",
              "\n",
              "    .dataframe thead th {\n",
              "        text-align: right;\n",
              "    }\n",
              "</style>\n",
              "<table border=\"1\" class=\"dataframe\">\n",
              "  <thead>\n",
              "    <tr style=\"text-align: right;\">\n",
              "      <th></th>\n",
              "      <th>mpg</th>\n",
              "      <th>cylinders</th>\n",
              "      <th>displacement</th>\n",
              "      <th>horsepower</th>\n",
              "      <th>weight</th>\n",
              "      <th>acceleration</th>\n",
              "      <th>model year</th>\n",
              "      <th>origin</th>\n",
              "      <th>car name</th>\n",
              "    </tr>\n",
              "  </thead>\n",
              "  <tbody>\n",
              "    <tr>\n",
              "      <th>0</th>\n",
              "      <td>18.0</td>\n",
              "      <td>8</td>\n",
              "      <td>307.0</td>\n",
              "      <td>130</td>\n",
              "      <td>3504</td>\n",
              "      <td>12.0</td>\n",
              "      <td>70</td>\n",
              "      <td>1</td>\n",
              "      <td>chevrolet chevelle malibu</td>\n",
              "    </tr>\n",
              "    <tr>\n",
              "      <th>1</th>\n",
              "      <td>15.0</td>\n",
              "      <td>8</td>\n",
              "      <td>350.0</td>\n",
              "      <td>165</td>\n",
              "      <td>3693</td>\n",
              "      <td>11.5</td>\n",
              "      <td>70</td>\n",
              "      <td>1</td>\n",
              "      <td>buick skylark 320</td>\n",
              "    </tr>\n",
              "    <tr>\n",
              "      <th>2</th>\n",
              "      <td>18.0</td>\n",
              "      <td>8</td>\n",
              "      <td>318.0</td>\n",
              "      <td>150</td>\n",
              "      <td>3436</td>\n",
              "      <td>11.0</td>\n",
              "      <td>70</td>\n",
              "      <td>1</td>\n",
              "      <td>plymouth satellite</td>\n",
              "    </tr>\n",
              "    <tr>\n",
              "      <th>3</th>\n",
              "      <td>16.0</td>\n",
              "      <td>8</td>\n",
              "      <td>304.0</td>\n",
              "      <td>150</td>\n",
              "      <td>3433</td>\n",
              "      <td>12.0</td>\n",
              "      <td>70</td>\n",
              "      <td>1</td>\n",
              "      <td>amc rebel sst</td>\n",
              "    </tr>\n",
              "    <tr>\n",
              "      <th>4</th>\n",
              "      <td>17.0</td>\n",
              "      <td>8</td>\n",
              "      <td>302.0</td>\n",
              "      <td>140</td>\n",
              "      <td>3449</td>\n",
              "      <td>10.5</td>\n",
              "      <td>70</td>\n",
              "      <td>1</td>\n",
              "      <td>ford torino</td>\n",
              "    </tr>\n",
              "  </tbody>\n",
              "</table>\n",
              "</div>\n",
              "      <button class=\"colab-df-convert\" onclick=\"convertToInteractive('df-5eae72af-ca43-4673-839b-dcde79cc3fd2')\"\n",
              "              title=\"Convert this dataframe to an interactive table.\"\n",
              "              style=\"display:none;\">\n",
              "        \n",
              "  <svg xmlns=\"http://www.w3.org/2000/svg\" height=\"24px\"viewBox=\"0 0 24 24\"\n",
              "       width=\"24px\">\n",
              "    <path d=\"M0 0h24v24H0V0z\" fill=\"none\"/>\n",
              "    <path d=\"M18.56 5.44l.94 2.06.94-2.06 2.06-.94-2.06-.94-.94-2.06-.94 2.06-2.06.94zm-11 1L8.5 8.5l.94-2.06 2.06-.94-2.06-.94L8.5 2.5l-.94 2.06-2.06.94zm10 10l.94 2.06.94-2.06 2.06-.94-2.06-.94-.94-2.06-.94 2.06-2.06.94z\"/><path d=\"M17.41 7.96l-1.37-1.37c-.4-.4-.92-.59-1.43-.59-.52 0-1.04.2-1.43.59L10.3 9.45l-7.72 7.72c-.78.78-.78 2.05 0 2.83L4 21.41c.39.39.9.59 1.41.59.51 0 1.02-.2 1.41-.59l7.78-7.78 2.81-2.81c.8-.78.8-2.07 0-2.86zM5.41 20L4 18.59l7.72-7.72 1.47 1.35L5.41 20z\"/>\n",
              "  </svg>\n",
              "      </button>\n",
              "      \n",
              "  <style>\n",
              "    .colab-df-container {\n",
              "      display:flex;\n",
              "      flex-wrap:wrap;\n",
              "      gap: 12px;\n",
              "    }\n",
              "\n",
              "    .colab-df-convert {\n",
              "      background-color: #E8F0FE;\n",
              "      border: none;\n",
              "      border-radius: 50%;\n",
              "      cursor: pointer;\n",
              "      display: none;\n",
              "      fill: #1967D2;\n",
              "      height: 32px;\n",
              "      padding: 0 0 0 0;\n",
              "      width: 32px;\n",
              "    }\n",
              "\n",
              "    .colab-df-convert:hover {\n",
              "      background-color: #E2EBFA;\n",
              "      box-shadow: 0px 1px 2px rgba(60, 64, 67, 0.3), 0px 1px 3px 1px rgba(60, 64, 67, 0.15);\n",
              "      fill: #174EA6;\n",
              "    }\n",
              "\n",
              "    [theme=dark] .colab-df-convert {\n",
              "      background-color: #3B4455;\n",
              "      fill: #D2E3FC;\n",
              "    }\n",
              "\n",
              "    [theme=dark] .colab-df-convert:hover {\n",
              "      background-color: #434B5C;\n",
              "      box-shadow: 0px 1px 3px 1px rgba(0, 0, 0, 0.15);\n",
              "      filter: drop-shadow(0px 1px 2px rgba(0, 0, 0, 0.3));\n",
              "      fill: #FFFFFF;\n",
              "    }\n",
              "  </style>\n",
              "\n",
              "      <script>\n",
              "        const buttonEl =\n",
              "          document.querySelector('#df-5eae72af-ca43-4673-839b-dcde79cc3fd2 button.colab-df-convert');\n",
              "        buttonEl.style.display =\n",
              "          google.colab.kernel.accessAllowed ? 'block' : 'none';\n",
              "\n",
              "        async function convertToInteractive(key) {\n",
              "          const element = document.querySelector('#df-5eae72af-ca43-4673-839b-dcde79cc3fd2');\n",
              "          const dataTable =\n",
              "            await google.colab.kernel.invokeFunction('convertToInteractive',\n",
              "                                                     [key], {});\n",
              "          if (!dataTable) return;\n",
              "\n",
              "          const docLinkHtml = 'Like what you see? Visit the ' +\n",
              "            '<a target=\"_blank\" href=https://colab.research.google.com/notebooks/data_table.ipynb>data table notebook</a>'\n",
              "            + ' to learn more about interactive tables.';\n",
              "          element.innerHTML = '';\n",
              "          dataTable['output_type'] = 'display_data';\n",
              "          await google.colab.output.renderOutput(dataTable, element);\n",
              "          const docLink = document.createElement('div');\n",
              "          docLink.innerHTML = docLinkHtml;\n",
              "          element.appendChild(docLink);\n",
              "        }\n",
              "      </script>\n",
              "    </div>\n",
              "  </div>\n",
              "  "
            ]
          },
          "metadata": {},
          "execution_count": 4
        }
      ]
    },
    {
      "cell_type": "code",
      "source": [
        "X = auto.iloc[:,[1,2,4,5,6,7]]\n",
        "y = auto.iloc[:, 0]\n",
        "X.head()"
      ],
      "metadata": {
        "colab": {
          "base_uri": "https://localhost:8080/",
          "height": 206
        },
        "id": "VYh7t8xtSWgb",
        "outputId": "4c76ffb1-f751-4fc3-bc08-c61ea1fdeffa"
      },
      "execution_count": null,
      "outputs": [
        {
          "output_type": "execute_result",
          "data": {
            "text/plain": [
              "   cylinders  displacement  weight  acceleration  model year  origin\n",
              "0          8         307.0    3504          12.0          70       1\n",
              "1          8         350.0    3693          11.5          70       1\n",
              "2          8         318.0    3436          11.0          70       1\n",
              "3          8         304.0    3433          12.0          70       1\n",
              "4          8         302.0    3449          10.5          70       1"
            ],
            "text/html": [
              "\n",
              "  <div id=\"df-d10a34f7-5645-4e65-9b87-2c394c8abfaf\">\n",
              "    <div class=\"colab-df-container\">\n",
              "      <div>\n",
              "<style scoped>\n",
              "    .dataframe tbody tr th:only-of-type {\n",
              "        vertical-align: middle;\n",
              "    }\n",
              "\n",
              "    .dataframe tbody tr th {\n",
              "        vertical-align: top;\n",
              "    }\n",
              "\n",
              "    .dataframe thead th {\n",
              "        text-align: right;\n",
              "    }\n",
              "</style>\n",
              "<table border=\"1\" class=\"dataframe\">\n",
              "  <thead>\n",
              "    <tr style=\"text-align: right;\">\n",
              "      <th></th>\n",
              "      <th>cylinders</th>\n",
              "      <th>displacement</th>\n",
              "      <th>weight</th>\n",
              "      <th>acceleration</th>\n",
              "      <th>model year</th>\n",
              "      <th>origin</th>\n",
              "    </tr>\n",
              "  </thead>\n",
              "  <tbody>\n",
              "    <tr>\n",
              "      <th>0</th>\n",
              "      <td>8</td>\n",
              "      <td>307.0</td>\n",
              "      <td>3504</td>\n",
              "      <td>12.0</td>\n",
              "      <td>70</td>\n",
              "      <td>1</td>\n",
              "    </tr>\n",
              "    <tr>\n",
              "      <th>1</th>\n",
              "      <td>8</td>\n",
              "      <td>350.0</td>\n",
              "      <td>3693</td>\n",
              "      <td>11.5</td>\n",
              "      <td>70</td>\n",
              "      <td>1</td>\n",
              "    </tr>\n",
              "    <tr>\n",
              "      <th>2</th>\n",
              "      <td>8</td>\n",
              "      <td>318.0</td>\n",
              "      <td>3436</td>\n",
              "      <td>11.0</td>\n",
              "      <td>70</td>\n",
              "      <td>1</td>\n",
              "    </tr>\n",
              "    <tr>\n",
              "      <th>3</th>\n",
              "      <td>8</td>\n",
              "      <td>304.0</td>\n",
              "      <td>3433</td>\n",
              "      <td>12.0</td>\n",
              "      <td>70</td>\n",
              "      <td>1</td>\n",
              "    </tr>\n",
              "    <tr>\n",
              "      <th>4</th>\n",
              "      <td>8</td>\n",
              "      <td>302.0</td>\n",
              "      <td>3449</td>\n",
              "      <td>10.5</td>\n",
              "      <td>70</td>\n",
              "      <td>1</td>\n",
              "    </tr>\n",
              "  </tbody>\n",
              "</table>\n",
              "</div>\n",
              "      <button class=\"colab-df-convert\" onclick=\"convertToInteractive('df-d10a34f7-5645-4e65-9b87-2c394c8abfaf')\"\n",
              "              title=\"Convert this dataframe to an interactive table.\"\n",
              "              style=\"display:none;\">\n",
              "        \n",
              "  <svg xmlns=\"http://www.w3.org/2000/svg\" height=\"24px\"viewBox=\"0 0 24 24\"\n",
              "       width=\"24px\">\n",
              "    <path d=\"M0 0h24v24H0V0z\" fill=\"none\"/>\n",
              "    <path d=\"M18.56 5.44l.94 2.06.94-2.06 2.06-.94-2.06-.94-.94-2.06-.94 2.06-2.06.94zm-11 1L8.5 8.5l.94-2.06 2.06-.94-2.06-.94L8.5 2.5l-.94 2.06-2.06.94zm10 10l.94 2.06.94-2.06 2.06-.94-2.06-.94-.94-2.06-.94 2.06-2.06.94z\"/><path d=\"M17.41 7.96l-1.37-1.37c-.4-.4-.92-.59-1.43-.59-.52 0-1.04.2-1.43.59L10.3 9.45l-7.72 7.72c-.78.78-.78 2.05 0 2.83L4 21.41c.39.39.9.59 1.41.59.51 0 1.02-.2 1.41-.59l7.78-7.78 2.81-2.81c.8-.78.8-2.07 0-2.86zM5.41 20L4 18.59l7.72-7.72 1.47 1.35L5.41 20z\"/>\n",
              "  </svg>\n",
              "      </button>\n",
              "      \n",
              "  <style>\n",
              "    .colab-df-container {\n",
              "      display:flex;\n",
              "      flex-wrap:wrap;\n",
              "      gap: 12px;\n",
              "    }\n",
              "\n",
              "    .colab-df-convert {\n",
              "      background-color: #E8F0FE;\n",
              "      border: none;\n",
              "      border-radius: 50%;\n",
              "      cursor: pointer;\n",
              "      display: none;\n",
              "      fill: #1967D2;\n",
              "      height: 32px;\n",
              "      padding: 0 0 0 0;\n",
              "      width: 32px;\n",
              "    }\n",
              "\n",
              "    .colab-df-convert:hover {\n",
              "      background-color: #E2EBFA;\n",
              "      box-shadow: 0px 1px 2px rgba(60, 64, 67, 0.3), 0px 1px 3px 1px rgba(60, 64, 67, 0.15);\n",
              "      fill: #174EA6;\n",
              "    }\n",
              "\n",
              "    [theme=dark] .colab-df-convert {\n",
              "      background-color: #3B4455;\n",
              "      fill: #D2E3FC;\n",
              "    }\n",
              "\n",
              "    [theme=dark] .colab-df-convert:hover {\n",
              "      background-color: #434B5C;\n",
              "      box-shadow: 0px 1px 3px 1px rgba(0, 0, 0, 0.15);\n",
              "      filter: drop-shadow(0px 1px 2px rgba(0, 0, 0, 0.3));\n",
              "      fill: #FFFFFF;\n",
              "    }\n",
              "  </style>\n",
              "\n",
              "      <script>\n",
              "        const buttonEl =\n",
              "          document.querySelector('#df-d10a34f7-5645-4e65-9b87-2c394c8abfaf button.colab-df-convert');\n",
              "        buttonEl.style.display =\n",
              "          google.colab.kernel.accessAllowed ? 'block' : 'none';\n",
              "\n",
              "        async function convertToInteractive(key) {\n",
              "          const element = document.querySelector('#df-d10a34f7-5645-4e65-9b87-2c394c8abfaf');\n",
              "          const dataTable =\n",
              "            await google.colab.kernel.invokeFunction('convertToInteractive',\n",
              "                                                     [key], {});\n",
              "          if (!dataTable) return;\n",
              "\n",
              "          const docLinkHtml = 'Like what you see? Visit the ' +\n",
              "            '<a target=\"_blank\" href=https://colab.research.google.com/notebooks/data_table.ipynb>data table notebook</a>'\n",
              "            + ' to learn more about interactive tables.';\n",
              "          element.innerHTML = '';\n",
              "          dataTable['output_type'] = 'display_data';\n",
              "          await google.colab.output.renderOutput(dataTable, element);\n",
              "          const docLink = document.createElement('div');\n",
              "          docLink.innerHTML = docLinkHtml;\n",
              "          element.appendChild(docLink);\n",
              "        }\n",
              "      </script>\n",
              "    </div>\n",
              "  </div>\n",
              "  "
            ]
          },
          "metadata": {},
          "execution_count": 10
        }
      ]
    },
    {
      "cell_type": "code",
      "source": [
        "y.head()"
      ],
      "metadata": {
        "colab": {
          "base_uri": "https://localhost:8080/"
        },
        "id": "hsNoYpQXTjNb",
        "outputId": "74d69ed2-5790-4697-84a2-eb576e740694"
      },
      "execution_count": null,
      "outputs": [
        {
          "output_type": "execute_result",
          "data": {
            "text/plain": [
              "0    18.0\n",
              "1    15.0\n",
              "2    18.0\n",
              "3    16.0\n",
              "4    17.0\n",
              "Name: mpg, dtype: float64"
            ]
          },
          "metadata": {},
          "execution_count": 11
        }
      ]
    },
    {
      "cell_type": "code",
      "source": [
        "lr = LinearRegression()\n",
        "lr.fit(X.to_numpy(),y)\n",
        "lr.score(X.to_numpy(),y)"
      ],
      "metadata": {
        "colab": {
          "base_uri": "https://localhost:8080/"
        },
        "id": "XGYK9gAFUDEr",
        "outputId": "8a3454ad-2845-40e7-b0b3-2dff87b5edf3"
      },
      "execution_count": null,
      "outputs": [
        {
          "output_type": "execute_result",
          "data": {
            "text/plain": [
              "0.8205585866916345"
            ]
          },
          "metadata": {},
          "execution_count": 14
        }
      ]
    },
    {
      "cell_type": "code",
      "source": [
        "my_car1 = [4, 160, 190, 12, 90, 1]\n",
        "my_car2 = [4, 200, 260, 15, 83, 1]\n",
        " \n",
        "cars = [my_car1, my_car2]\n",
        "lr.predict(cars)"
      ],
      "metadata": {
        "colab": {
          "base_uri": "https://localhost:8080/"
        },
        "id": "9tO3Nnw4U6fM",
        "outputId": "5a395ef9-f373-4017-9fac-d848d13e11e4"
      },
      "execution_count": null,
      "outputs": [
        {
          "output_type": "execute_result",
          "data": {
            "text/plain": [
              "array([52.23767295, 47.5274183 ])"
            ]
          },
          "metadata": {},
          "execution_count": 15
        }
      ]
    },
    {
      "cell_type": "markdown",
      "source": [
        "# Nienadzorowane"
      ],
      "metadata": {
        "id": "95E-as8yL92L"
      }
    },
    {
      "cell_type": "code",
      "source": [
        "import numpy as np\n",
        "import pandas as pd\n",
        "import matplotlib.pyplot as plt\n",
        "%matplotlib inline\n",
        "from sklearn.datasets import make_blobs\n",
        "from sklearn.cluster import KMeans"
      ],
      "metadata": {
        "id": "re2sz4kLL6tl"
      },
      "execution_count": null,
      "outputs": []
    },
    {
      "cell_type": "code",
      "source": [
        "X, y = make_blobs(n_samples=100, centers=4, cluster_std=0.60, random_state=0)\n",
        "plt.scatter(X[:,0], X[:,1])"
      ],
      "metadata": {
        "colab": {
          "base_uri": "https://localhost:8080/",
          "height": 282
        },
        "id": "DKB5dXTsMnWZ",
        "outputId": "17d8d28b-9511-4d09-b1f1-c19ff9f87d6a"
      },
      "execution_count": null,
      "outputs": [
        {
          "output_type": "execute_result",
          "data": {
            "text/plain": [
              "<matplotlib.collections.PathCollection at 0x7fe778fa3d00>"
            ]
          },
          "metadata": {},
          "execution_count": 6
        },
        {
          "output_type": "display_data",
          "data": {
            "text/plain": [
              "<Figure size 432x288 with 1 Axes>"
            ],
            "image/png": "[encoded data removed]"
          },
          "metadata": {
            "needs_background": "light"
          }
        }
      ]
    },
    {
      "cell_type": "code",
      "source": [
        "WCSS = []\n",
        "for k in range(1,15):\n",
        "    kmeans = KMeans(n_clusters=k)\n",
        "    kmeans.fit(X)\n",
        "    WCSS.append(kmeans.inertia_)"
      ],
      "metadata": {
        "id": "ZFmwOy-dNFcf"
      },
      "execution_count": null,
      "outputs": []
    },
    {
      "cell_type": "code",
      "source": [
        "plt.plot(range(1,15),WCSS)\n",
        "plt.xlabel(\"Number of K Value(Cluster)\")\n",
        "plt.ylabel(\"WCSS\")\n",
        "plt.grid()"
      ],
      "metadata": {
        "colab": {
          "base_uri": "https://localhost:8080/",
          "height": 279
        },
        "id": "8YrDN7RuNaDn",
        "outputId": "d52682e6-af31-4759-b16d-4d318e1ac9a3"
      },
      "execution_count": null,
      "outputs": [
        {
          "output_type": "display_data",
          "data": {
            "text/plain": [
              "<Figure size 432x288 with 1 Axes>"
            ],
            "image/png": "[encoded data removed]"
          },
          "metadata": {
            "needs_background": "light"
          }
        }
      ]
    },
    {
      "cell_type": "code",
      "source": [
        "kmeans =KMeans(n_clusters = 4 ,max_iter=300, random_state= 1)\n",
        "clusters = kmeans.fit_predict(X) \n",
        "labels = kmeans.labels_\n",
        "centroids = kmeans.cluster_centers_"
      ],
      "metadata": {
        "id": "BqnVqlsuNtPX"
      },
      "execution_count": null,
      "outputs": []
    },
    {
      "cell_type": "code",
      "source": [
        "h = 0.1\n",
        "x_min, x_max = X[:,0].min(), X[:,0].max()\n",
        "y_min, y_max = X[:,1].min(), X[:,1].max()\n",
        "xx, yy = np.meshgrid(np.arange(x_min, x_max, h), np.arange(y_min, y_max, h))\n",
        "Z = kmeans.predict(np.c_[xx.ravel(), yy.ravel()]) \n",
        "Z = Z.reshape(xx.shape)\n",
        " \n",
        "plt.figure(1 , figsize = (15 , 7) )\n",
        "plt.clf()\n",
        " \n",
        "plt.imshow(Z , interpolation='nearest', \n",
        "           extent=(xx.min(), xx.max(), yy.min(), yy.max()),\n",
        "           cmap = plt.cm.Pastel1, origin='lower')\n",
        " \n",
        "plt.scatter(x=X[:,0], y=X[:,1], c=labels, s=100)\n",
        " \n",
        "plt.scatter(x=centroids[:,0], y=centroids[:,1],s=300 , c='red')\n",
        " \n",
        "plt.ylabel('x') , plt.xlabel('y')\n",
        "plt.grid()\n",
        "plt.title(\"Clustering\")"
      ],
      "metadata": {
        "colab": {
          "base_uri": "https://localhost:8080/",
          "height": 475
        },
        "id": "UiKoMvnNN-m4",
        "outputId": "3e95e907-f41a-44e0-b8f9-6c88c83f7741"
      },
      "execution_count": null,
      "outputs": [
        {
          "output_type": "execute_result",
          "data": {
            "text/plain": [
              "Text(0.5, 1.0, 'Clustering')"
            ]
          },
          "metadata": {},
          "execution_count": 13
        },
        {
          "output_type": "display_data",
          "data": {
            "text/plain": [
              "<Figure size 1080x504 with 1 Axes>"
            ],
            "image/png": "[encoded data removed]"
          },
          "metadata": {
            "needs_background": "light"
          }
        }
      ]
    },
    {
      "cell_type": "markdown",
      "source": [
        "# Rozdział 4"
      ],
      "metadata": {
        "id": "ra4hHv4AgBJO"
      }
    },
    {
      "cell_type": "code",
      "source": [
        "# Loading common data related modules\n",
        "import numpy as np\n",
        "import pandas as pd\n",
        "import math \n",
        " \n",
        "# Loading modelling algorithms\n",
        "from sklearn.linear_model import LinearRegression\n",
        "from sklearn.linear_model import Lasso\n",
        "from sklearn.linear_model import Ridge\n",
        "from sklearn.neighbors    import KNeighborsRegressor\n",
        "from sklearn.ensemble     import AdaBoostRegressor\n",
        "from sklearn.ensemble     import RandomForestRegressor\n",
        " \n",
        "# Loading tools\n",
        "from sklearn.model_selection import train_test_split\n",
        "from sklearn.preprocessing   import StandardScaler\n",
        "from sklearn.metrics         import r2_score\n",
        " \n",
        "# Loading visualisation modules\n",
        "import matplotlib.pyplot as plt\n",
        "import seaborn as sns\n",
        "import missingno as msno\n",
        " \n",
        "# Configure visualisations \n",
        "%matplotlib inline\n",
        " \n",
        "# Ignore warning messages\n",
        "import warnings\n",
        "warnings.filterwarnings('ignore')\n",
        " \n",
        "#-----------------------------------------------------------------------------\n",
        "# Read data\n",
        "diamonds = pd.read_csv(r'C:\\data\\diamonds.csv')\n",
        " \n",
        "#-----------------------------------------------------------------------------\n",
        "# Review and clean the data (may be a repetitive task)\n",
        "# remove unnecessary columns\n",
        "diamonds.head()\n",
        "diamonds.drop(['Unnamed: 0'] , axis=1 , inplace=True)\n",
        "diamonds.head()\n",
        " \n",
        "# review the data and get intuition about it\n",
        "diamonds.shape\n",
        "diamonds.info()\n",
        " \n",
        "# find and eliminate nulls\n",
        "diamonds.isnull().sum()\n",
        "msno.matrix(diamonds, figsize=(10,4)) # just to visualize. no missing values.\n",
        " \n",
        "# search for illogical values\n",
        "diamonds.describe()\n",
        "diamonds.loc[(diamonds['x']==0) | (diamonds['y']==0) | (diamonds['z']==0)]\n",
        "len(diamonds[(diamonds['x']==0) | (diamonds['y']==0) | (diamonds['z']==0)])\n",
        "diamonds = diamonds[(diamonds[['x','y','z']] != 0).all(axis=1)]\n",
        "# always check after execution\n",
        "diamonds.loc[(diamonds['x']==0) | (diamonds['y']==0) | (diamonds['z']==0)]\n",
        " \n",
        "# Detect dependencies in the data\n",
        "corr = diamonds.corr()\n",
        "sns.heatmap(data=corr, square=True , annot=True, cbar=True)\n",
        "sns.pairplot(diamonds)\n",
        "#\n",
        "# check distribution\n",
        "sns.kdeplot(diamonds['carat'], shade=True , color='r')\n",
        "plt.hist(diamonds['carat'], bins=25)\n",
        "#\n",
        "# check correlation graph\n",
        "sns.jointplot(x='carat' , y='price' , data=diamonds , size=5)\n",
        "#\n",
        "# analyze feature by feature, create hypotesis, try to find evidence\n",
        "sns.factorplot(x='cut', data=diamonds , kind='count',aspect=1.5)\n",
        "sns.factorplot(x='cut', y='price', data=diamonds, kind='box' ,aspect=1.5)\n",
        "#\n",
        "sns.factorplot(x='color', data=diamonds , kind='count',aspect=1.5)\n",
        "sns.factorplot(x='color', y='price' , data=diamonds , kind='violin', \n",
        "               aspect=1.5)\n",
        "#\n",
        "# try to use different visualisation methods\n",
        "sns.factorplot(x='clarity', data=diamonds , kind='count',aspect=1.5)\n",
        "sns.factorplot(x='clarity', y='price' , data=diamonds , kind='violin', \n",
        "               aspect=1.5)\n",
        "#\n",
        "labels = diamonds.clarity.unique().tolist()\n",
        "sizes = diamonds.clarity.value_counts().tolist()\n",
        "colors = ['#006400', '#E40E00', '#A00994', '#613205', '#FFED0D', \n",
        "          '#16F5A7','#ff9999','#66b3ff']\n",
        "explode = (0.1, 0.1, 0.1, 0.1, 0.1, 0.1, 0.1, 0.1)\n",
        "plt.pie(sizes, explode=explode, labels=labels, colors=colors,\n",
        "        autopct='%1.1f%%', shadow=True, startangle=0)\n",
        "plt.axis('equal')\n",
        "plt.title(\"Percentage of Clarity Categories\")\n",
        "plt.plot()\n",
        "fig=plt.gcf()\n",
        "fig.set_size_inches(6,6)\n",
        "plt.show()\n",
        "#\n",
        "# try to find specific groups/classifications - repetitive process\n",
        "sns.boxplot(x='clarity', y='price', data=diamonds)\n",
        "#\n",
        "plt.hist('depth' , data=diamonds , bins=25)\n",
        "sns.jointplot(x='depth', y='price', data=diamonds, size=5)\n",
        "#\n",
        "sns.kdeplot(diamonds['table'] ,shade=True , color='orange')\n",
        "sns.jointplot(x='table', y='price', data=diamonds , size=5)\n",
        " \n",
        "#-----------------------------------------------------------------------------\n",
        "# feature engineering - ananlyzing separately xyz doesn't make sense\n",
        "sns.kdeplot(diamonds['x'] ,shade=True , color='r' )\n",
        "sns.kdeplot(diamonds['y'] , shade=True , color='g' )\n",
        "sns.kdeplot(diamonds['z'] , shade= True , color='b')\n",
        "plt.xlim(2,10)\n",
        "diamonds['volume'] = diamonds['x']*diamonds['y']*diamonds['z']\n",
        "diamonds.head()\n",
        "#\n",
        "plt.figure(figsize=(5,5))\n",
        "plt.hist( x=diamonds['volume'] , bins=30 ,color='g')\n",
        "plt.xlabel('Volume in mm^3')\n",
        "plt.ylabel('Frequency')\n",
        "plt.title('Distribution of Diamond\\'s Volume')\n",
        "plt.xlim(0,1000)\n",
        "plt.ylim(0,50000)\n",
        "#\n",
        "sns.jointplot(x='volume', y='price' , data=diamonds, size=5)\n",
        "#\n",
        "diamonds.drop(['x','y','z'], axis=1, inplace= True)\n",
        "diamonds.head()\n",
        "#\n",
        "# One hot encoding\n",
        "diamonds = pd.get_dummies(diamonds, prefix_sep='_', drop_first=True)\n",
        "diamonds.head()\n",
        " \n",
        "#-----------------------------------------------------------------------------\n",
        "# splitting data into features X, and labels y\n",
        "X = diamonds.drop(['price'], axis=1)\n",
        "y = diamonds['price']\n",
        "#\n",
        "# splitting data into train and test data\n",
        "X_train, X_test, y_train, y_test = train_test_split(X,y,test_size=0.2, \n",
        "                                                    random_state=66)\n",
        " \n",
        "#-----------------------------------------------------------------------------\n",
        "# scaling values\n",
        "sc = StandardScaler()\n",
        "X_train = sc.fit_transform(X_train)\n",
        "X_test = sc.transform(X_test)\n",
        "X_train\n",
        " \n",
        " \n",
        "#-----------------------------------------------------------------------------\n",
        "# test different algorithms to get the data predictions \n",
        "scores = []\n",
        "models = ['Linear Regression', 'Lasso Regression', 'AdaBoost Regression', \n",
        "          'Ridge Regression', 'RandomForest Regression', \n",
        "          'KNeighbours Regression']\n",
        " \n",
        "#-----------------------------------------------------------------------------\n",
        "# Linear regression\n",
        "lr = LinearRegression()\n",
        "lr.fit(X_train , y_train)\n",
        "y_pred = lr.predict(X_test)\n",
        "r2 = r2_score(y_test, y_pred)\n",
        " \n",
        "scores.append(r2)\n",
        "print('Linear Regression R2: {0:.2f}'.format(r2))\n",
        " \n",
        " \n",
        "# Lasso\n",
        "lasso = Lasso(normalize=True)\n",
        "lasso.fit(X_train , y_train)\n",
        "y_pred = lasso.predict(X_test)\n",
        "r2 = r2_score(y_test, y_pred)\n",
        " \n",
        "scores.append(r2)\n",
        "print('Lasso Regression R2: {0:.2f}'.format(r2))\n",
        " \n",
        " \n",
        "# Adaboost classifier\n",
        "adaboost = AdaBoostRegressor(n_estimators=1000)\n",
        "adaboost.fit(X_train , y_train)\n",
        "y_pred = adaboost.predict(X_test)\n",
        "r2 = r2_score(y_test, y_pred)\n",
        " \n",
        "scores.append(r2)\n",
        "print('AdaBoost Regression R2: {0:.2f}'.format(r2))\n",
        " \n",
        "# Ridge\n",
        "ridge = Ridge(normalize=True)\n",
        "ridge.fit(X_train , y_train)\n",
        "y_pred = ridge.predict(X_test)\n",
        "r2 = r2_score(y_test, y_pred)\n",
        " \n",
        "scores.append(r2)\n",
        "print('Ridge Regression R2: {0:.2f}'.format(r2))\n",
        " \n",
        " \n",
        "# Random forest\n",
        "randomforest = RandomForestRegressor()\n",
        "randomforest .fit(X_train , y_train)\n",
        "y_pred = randomforest .predict(X_test)\n",
        "r2 = r2_score(y_test, y_pred)\n",
        " \n",
        "scores.append(r2)\n",
        "print('Random Forest R2: {0:.2f}'.format(r2))\n",
        " \n",
        " \n",
        "# K-Neighbours\n",
        "kneighbours = KNeighborsRegressor()\n",
        "kneighbours.fit(X_train , y_train)\n",
        "y_pred = kneighbours.predict(X_test)\n",
        "r2 = r2_score(y_test, y_pred)\n",
        " \n",
        "scores.append(r2)\n",
        "print('K-Neighbours Regression R2: {0:.2f}'.format(r2))\n",
        " \n",
        " \n",
        "#-----------------------------------------------------------------------------\n",
        "ranking = pd.DataFrame({'Algorithms' : models , 'R2-Scores' : scores})\n",
        "ranking = ranking.sort_values(by='R2-Scores' ,ascending=False)\n",
        "ranking\n",
        " \n",
        "sns.barplot(x='R2-Scores' , y='Algorithms' , data=ranking)\n",
        " \n"
      ],
      "metadata": {
        "id": "my9lXh_sgMcp"
      },
      "execution_count": null,
      "outputs": []
    },
    {
      "cell_type": "code",
      "source": [
        "import numpy as np\n",
        "a = np.arange(20)\n",
        "a.shape"
      ],
      "metadata": {
        "colab": {
          "base_uri": "https://localhost:8080/"
        },
        "id": "od2t9mqcjTQA",
        "outputId": "0a1ebec1-50c2-4146-b656-8373edd12e8a"
      },
      "execution_count": null,
      "outputs": [
        {
          "output_type": "execute_result",
          "data": {
            "text/plain": [
              "(20,)"
            ]
          },
          "metadata": {},
          "execution_count": 3
        }
      ]
    },
    {
      "cell_type": "code",
      "source": [
        "print(a[4])\n",
        "print(a[0])"
      ],
      "metadata": {
        "colab": {
          "base_uri": "https://localhost:8080/"
        },
        "id": "q3ZGPxIRjlm9",
        "outputId": "861cbb19-03b9-4675-ccad-26fd845e2214"
      },
      "execution_count": null,
      "outputs": [
        {
          "output_type": "stream",
          "name": "stdout",
          "text": [
            "4\n",
            "0\n"
          ]
        }
      ]
    },
    {
      "cell_type": "code",
      "source": [
        "a = a.reshape((2,10))\n",
        "a"
      ],
      "metadata": {
        "colab": {
          "base_uri": "https://localhost:8080/"
        },
        "id": "z8NGTagSjwn4",
        "outputId": "86687e60-6bed-4960-840f-f8e1101369fc"
      },
      "execution_count": null,
      "outputs": [
        {
          "output_type": "execute_result",
          "data": {
            "text/plain": [
              "array([[ 0,  1,  2,  3,  4,  5,  6,  7,  8,  9],\n",
              "       [10, 11, 12, 13, 14, 15, 16, 17, 18, 19]])"
            ]
          },
          "metadata": {},
          "execution_count": 8
        }
      ]
    },
    {
      "cell_type": "code",
      "source": [
        "print(a[0])\n",
        "print(a[0][4])"
      ],
      "metadata": {
        "colab": {
          "base_uri": "https://localhost:8080/"
        },
        "id": "tOCORE3hkPim",
        "outputId": "9c864875-6635-4228-8841-52e947df8ac2"
      },
      "execution_count": null,
      "outputs": [
        {
          "output_type": "stream",
          "name": "stdout",
          "text": [
            "[0 1 2 3 4 5 6 7 8 9]\n",
            "4\n"
          ]
        }
      ]
    },
    {
      "cell_type": "code",
      "source": [
        "a = a.reshape((2,5,2))\n",
        "a.shape"
      ],
      "metadata": {
        "colab": {
          "base_uri": "https://localhost:8080/"
        },
        "id": "T5m74xhQkft4",
        "outputId": "dc3a7653-561b-4e33-b615-795a3bde4551"
      },
      "execution_count": null,
      "outputs": [
        {
          "output_type": "execute_result",
          "data": {
            "text/plain": [
              "(2, 5, 2)"
            ]
          },
          "metadata": {},
          "execution_count": 13
        }
      ]
    },
    {
      "cell_type": "code",
      "source": [
        "print(a[0])\n",
        "print(a[0][4])\n",
        "print(a[0][4][1])"
      ],
      "metadata": {
        "colab": {
          "base_uri": "https://localhost:8080/"
        },
        "id": "61dMKab2k0fA",
        "outputId": "f3108d1a-598c-45df-dcdd-fc2ba4fee546"
      },
      "execution_count": null,
      "outputs": [
        {
          "output_type": "stream",
          "name": "stdout",
          "text": [
            "[[0 1]\n",
            " [2 3]\n",
            " [4 5]\n",
            " [6 7]\n",
            " [8 9]]\n",
            "[8 9]\n",
            "9\n"
          ]
        }
      ]
    },
    {
      "cell_type": "code",
      "source": [
        "b = np.arange(0,40,2).reshape(4,5)\n",
        "b"
      ],
      "metadata": {
        "colab": {
          "base_uri": "https://localhost:8080/"
        },
        "id": "q5Yf7FNTlRNA",
        "outputId": "285c7999-3c5c-43ef-b525-164a834e3a30"
      },
      "execution_count": null,
      "outputs": [
        {
          "output_type": "execute_result",
          "data": {
            "text/plain": [
              "array([[ 0,  2,  4,  6,  8],\n",
              "       [10, 12, 14, 16, 18],\n",
              "       [20, 22, 24, 26, 28],\n",
              "       [30, 32, 34, 36, 38]])"
            ]
          },
          "metadata": {},
          "execution_count": 17
        }
      ]
    },
    {
      "cell_type": "code",
      "source": [
        "a_python_list =  [2**x for x in range(10)]\n",
        "c = np.array(a_python_list)\n",
        "c"
      ],
      "metadata": {
        "colab": {
          "base_uri": "https://localhost:8080/"
        },
        "id": "o1N_bZD3lsBI",
        "outputId": "a2eb0308-3b50-46ec-8487-25fa91b5f792"
      },
      "execution_count": null,
      "outputs": [
        {
          "output_type": "execute_result",
          "data": {
            "text/plain": [
              "array([  1,   2,   4,   8,  16,  32,  64, 128, 256, 512])"
            ]
          },
          "metadata": {},
          "execution_count": 18
        }
      ]
    },
    {
      "cell_type": "code",
      "source": [
        "zero_array = np.zeros(10)\n",
        "zero_array"
      ],
      "metadata": {
        "colab": {
          "base_uri": "https://localhost:8080/"
        },
        "id": "3QBMr-lIl4J4",
        "outputId": "93871974-9252-4e01-8f5f-199b24a00f2f"
      },
      "execution_count": null,
      "outputs": [
        {
          "output_type": "execute_result",
          "data": {
            "text/plain": [
              "array([0., 0., 0., 0., 0., 0., 0., 0., 0., 0.])"
            ]
          },
          "metadata": {},
          "execution_count": 20
        }
      ]
    },
    {
      "cell_type": "code",
      "source": [
        "one_array = np.ones(10)\n",
        "one_array"
      ],
      "metadata": {
        "colab": {
          "base_uri": "https://localhost:8080/"
        },
        "id": "yk7HlSpEl9Xg",
        "outputId": "a59b5d05-4086-4e0a-ffa0-48ac7bc43571"
      },
      "execution_count": null,
      "outputs": [
        {
          "output_type": "execute_result",
          "data": {
            "text/plain": [
              "array([1., 1., 1., 1., 1., 1., 1., 1., 1., 1.])"
            ]
          },
          "metadata": {},
          "execution_count": 21
        }
      ]
    },
    {
      "cell_type": "code",
      "source": [
        "empty_array = np.empty(100)\n",
        "empty_array"
      ],
      "metadata": {
        "colab": {
          "base_uri": "https://localhost:8080/"
        },
        "id": "i0E0RZ64mF3B",
        "outputId": "4851292c-2d03-43b4-86e5-e97d4390bdcb"
      },
      "execution_count": null,
      "outputs": [
        {
          "output_type": "execute_result",
          "data": {
            "text/plain": [
              "array([2.05015504e-316, 0.00000000e+000, 3.72031431e-321,             nan,\n",
              "       1.12646967e-321, 0.00000000e+000, 7.37108455e-260, 1.38080600e+267,\n",
              "       2.32162240e-152, 4.83245960e+276, 7.20881796e+159, 2.44045321e-152,\n",
              "       4.81433624e+199, 1.06400250e+248, 9.33602100e+077, 1.14448054e+243,\n",
              "       4.46811730e-091, 4.47593816e-091, 1.01813947e+277, 1.77921949e+248,\n",
              "       1.02112630e-028, 1.05957293e+214, 6.01346953e-154, 1.27871133e-152,\n",
              "       1.27967303e-152, 6.74018251e+199, 5.56111703e+180, 2.17374124e+068,\n",
              "       4.83245960e+276, 2.32162240e-152, 2.99489130e+262, 7.62861449e+228,\n",
              "       6.01347002e-154, 6.26526709e-085, 1.77459490e+248, 1.15314136e+214,\n",
              "       1.69600982e+161, 2.78107099e+180, 4.78108711e+180, 9.29603063e+199,\n",
              "       1.39487768e-258, 6.01347002e-154, 5.82147482e+180, 6.01346953e-154,\n",
              "       2.52760136e-258, 4.47593804e-091, 6.01346953e-154, 4.70079799e+180,\n",
              "       1.12547821e-153, 2.59345489e+161, 6.01347002e-154, 1.96086579e+243,\n",
              "       6.92107984e+212, 7.20535013e+159, 1.31079606e+179, 1.49005471e+195,\n",
              "       4.88701768e+199, 1.73762087e+156, 3.29876084e+180, 5.98181692e-154,\n",
              "       1.68519147e+262, 1.68821486e+195, 1.35890093e+248, 4.95238678e+223,\n",
              "       2.32299165e-152, 1.30445670e+243, 5.51999516e+228, 6.19635167e+223,\n",
              "       9.13611935e+242, 6.01347002e-154, 1.06758000e+224, 1.66828001e+243,\n",
              "       3.68777421e+180, 3.00966884e-153, 2.64522460e+185, 1.09918859e+155,\n",
              "       9.77080121e-153, 2.31461563e-152, 2.46744204e-154, 1.91002772e+227,\n",
              "       1.27919412e-152, 2.82077314e-095, 7.10571167e+159, 2.69283786e+020,\n",
              "       1.95132487e+227, 1.27919412e-152, 1.00213999e-109, 1.38501407e+219,\n",
              "       6.01334628e-154, 3.30164346e+180, 1.71870550e+161, 2.73014022e-095,\n",
              "       1.73345857e+156, 2.62785629e+092, 2.04553260e-258, 4.47593804e-091,\n",
              "       6.01334512e-154, 8.88055929e+252, 2.74427901e+214, 1.31357729e-258])"
            ]
          },
          "metadata": {},
          "execution_count": 22
        }
      ]
    },
    {
      "cell_type": "code",
      "source": [
        "lucky_array = np.full((5,5),13)\n",
        "lucky_array"
      ],
      "metadata": {
        "colab": {
          "base_uri": "https://localhost:8080/"
        },
        "id": "eYFXwzU_mTaQ",
        "outputId": "5eeaca84-a8fc-4d49-fc68-968466671946"
      },
      "execution_count": null,
      "outputs": [
        {
          "output_type": "execute_result",
          "data": {
            "text/plain": [
              "array([[13, 13, 13, 13, 13],\n",
              "       [13, 13, 13, 13, 13],\n",
              "       [13, 13, 13, 13, 13],\n",
              "       [13, 13, 13, 13, 13],\n",
              "       [13, 13, 13, 13, 13]])"
            ]
          },
          "metadata": {},
          "execution_count": 23
        }
      ]
    },
    {
      "cell_type": "code",
      "source": [
        "diagonal_array = np.eye(5)\n",
        "diagonal_array"
      ],
      "metadata": {
        "colab": {
          "base_uri": "https://localhost:8080/"
        },
        "id": "EvTig2Rhmg1Q",
        "outputId": "14d7b412-8ca9-46e2-ca3c-e437760aa74e"
      },
      "execution_count": null,
      "outputs": [
        {
          "output_type": "execute_result",
          "data": {
            "text/plain": [
              "array([[1., 0., 0., 0., 0.],\n",
              "       [0., 1., 0., 0., 0.],\n",
              "       [0., 0., 1., 0., 0.],\n",
              "       [0., 0., 0., 1., 0.],\n",
              "       [0., 0., 0., 0., 1.]])"
            ]
          },
          "metadata": {},
          "execution_count": 24
        }
      ]
    },
    {
      "cell_type": "code",
      "source": [
        "random_array = np.random.random(10)\n",
        "random_array"
      ],
      "metadata": {
        "colab": {
          "base_uri": "https://localhost:8080/"
        },
        "id": "fgo1DKIMmqEQ",
        "outputId": "25f4c25a-c5d0-47dc-f298-4b41509414c0"
      },
      "execution_count": null,
      "outputs": [
        {
          "output_type": "execute_result",
          "data": {
            "text/plain": [
              "array([0.20347314, 0.4637265 , 0.46460283, 0.89448931, 0.71415044,\n",
              "       0.8064697 , 0.99722159, 0.85944545, 0.39668412, 0.24427435])"
            ]
          },
          "metadata": {},
          "execution_count": 25
        }
      ]
    },
    {
      "cell_type": "code",
      "source": [
        "linspace_array = np.linspace(100, 200, 5)\n",
        "linspace_array"
      ],
      "metadata": {
        "colab": {
          "base_uri": "https://localhost:8080/"
        },
        "id": "0LB_k2Z4m2EX",
        "outputId": "3139c5ee-af65-40dc-dbd2-6a8e86f04dbd"
      },
      "execution_count": null,
      "outputs": [
        {
          "output_type": "execute_result",
          "data": {
            "text/plain": [
              "array([100., 125., 150., 175., 200.])"
            ]
          },
          "metadata": {},
          "execution_count": 26
        }
      ]
    },
    {
      "cell_type": "markdown",
      "source": [
        "# Lab 21 NumPy"
      ],
      "metadata": {
        "id": "YrLQAEClDRiA"
      }
    },
    {
      "cell_type": "code",
      "source": [
        "import numpy as np\n",
        "import pandas as pd\n",
        "import matplotlib.pyplot as plt\n",
        "%matplotlib inline"
      ],
      "metadata": {
        "id": "kdO8KMsHDROA"
      },
      "execution_count": null,
      "outputs": []
    },
    {
      "cell_type": "code",
      "source": [
        "arr = np.arange(5,30, 2)\n",
        "arr"
      ],
      "metadata": {
        "colab": {
          "base_uri": "https://localhost:8080/"
        },
        "id": "heN6APo6Desp",
        "outputId": "ea0c94e3-7248-4beb-ff35-50e116803343"
      },
      "execution_count": null,
      "outputs": [
        {
          "output_type": "execute_result",
          "data": {
            "text/plain": [
              "array([ 5,  7,  9, 11, 13, 15, 17, 19, 21, 23, 25, 27, 29])"
            ]
          },
          "metadata": {},
          "execution_count": 14
        }
      ]
    },
    {
      "cell_type": "code",
      "source": [
        "boolArr = arr[(arr % 3 == 0) & (arr < 20)]\n",
        "boolArr"
      ],
      "metadata": {
        "colab": {
          "base_uri": "https://localhost:8080/"
        },
        "id": "oNn3zEqnDq94",
        "outputId": "3bd73879-d588-487d-9b97-3f68ac8b53f4"
      },
      "execution_count": null,
      "outputs": [
        {
          "output_type": "execute_result",
          "data": {
            "text/plain": [
              "array([ 6,  9, 12, 15, 18])"
            ]
          },
          "metadata": {},
          "execution_count": 12
        }
      ]
    },
    {
      "cell_type": "code",
      "source": [
        "arr = np.arange(24).reshape((4,6))\n",
        "arr"
      ],
      "metadata": {
        "colab": {
          "base_uri": "https://localhost:8080/"
        },
        "id": "IjS93fKkEsZ5",
        "outputId": "8c80ab58-990e-47c3-96e8-a8d4a5154082"
      },
      "execution_count": null,
      "outputs": [
        {
          "output_type": "execute_result",
          "data": {
            "text/plain": [
              "array([[ 0,  1,  2,  3,  4,  5],\n",
              "       [ 6,  7,  8,  9, 10, 11],\n",
              "       [12, 13, 14, 15, 16, 17],\n",
              "       [18, 19, 20, 21, 22, 23]])"
            ]
          },
          "metadata": {},
          "execution_count": 16
        }
      ]
    },
    {
      "cell_type": "code",
      "source": [
        "arr[:,:-1]"
      ],
      "metadata": {
        "colab": {
          "base_uri": "https://localhost:8080/"
        },
        "id": "N-5ZMZCvF1yA",
        "outputId": "ca26576a-34cd-49a2-b4f1-deab6668ecb2"
      },
      "execution_count": null,
      "outputs": [
        {
          "output_type": "execute_result",
          "data": {
            "text/plain": [
              "array([[ 0,  1,  2,  3,  4],\n",
              "       [ 6,  7,  8,  9, 10],\n",
              "       [12, 13, 14, 15, 16],\n",
              "       [18, 19, 20, 21, 22]])"
            ]
          },
          "metadata": {},
          "execution_count": 27
        }
      ]
    },
    {
      "cell_type": "code",
      "source": [
        "arr = np.arange(50).reshape((10,5))\n",
        "arr"
      ],
      "metadata": {
        "colab": {
          "base_uri": "https://localhost:8080/"
        },
        "id": "krBIPWkGF31w",
        "outputId": "25c0d685-3afc-4132-b891-9f3226f9837b"
      },
      "execution_count": null,
      "outputs": [
        {
          "output_type": "execute_result",
          "data": {
            "text/plain": [
              "array([[ 0,  1,  2,  3,  4],\n",
              "       [ 5,  6,  7,  8,  9],\n",
              "       [10, 11, 12, 13, 14],\n",
              "       [15, 16, 17, 18, 19],\n",
              "       [20, 21, 22, 23, 24],\n",
              "       [25, 26, 27, 28, 29],\n",
              "       [30, 31, 32, 33, 34],\n",
              "       [35, 36, 37, 38, 39],\n",
              "       [40, 41, 42, 43, 44],\n",
              "       [45, 46, 47, 48, 49]])"
            ]
          },
          "metadata": {},
          "execution_count": 28
        }
      ]
    },
    {
      "cell_type": "code",
      "source": [
        "data = np.arange(500).reshape(100,5)"
      ],
      "metadata": {
        "id": "m2OOCKiLMRtI"
      },
      "execution_count": null,
      "outputs": []
    },
    {
      "cell_type": "code",
      "source": [
        "split_level = 0.2\n",
        "num_rows = data.shape[0]\n",
        "split_border = int(split_level * num_rows)\n",
        "split_border"
      ],
      "metadata": {
        "colab": {
          "base_uri": "https://localhost:8080/"
        },
        "id": "ADMtl_OsGr-H",
        "outputId": "89c0ea60-110c-4dbb-a55d-b36a8cbf0907"
      },
      "execution_count": null,
      "outputs": [
        {
          "output_type": "execute_result",
          "data": {
            "text/plain": [
              "20"
            ]
          },
          "metadata": {},
          "execution_count": 38
        }
      ]
    },
    {
      "cell_type": "code",
      "source": [
        "arr[:split_border,:]"
      ],
      "metadata": {
        "colab": {
          "base_uri": "https://localhost:8080/"
        },
        "id": "aTVAYDEEG1V4",
        "outputId": "18e6f456-c81b-482c-d176-8fa68cd6816a"
      },
      "execution_count": null,
      "outputs": [
        {
          "output_type": "execute_result",
          "data": {
            "text/plain": [
              "array([[0, 1, 2, 3, 4],\n",
              "       [5, 6, 7, 8, 9]])"
            ]
          },
          "metadata": {},
          "execution_count": 34
        }
      ]
    },
    {
      "cell_type": "code",
      "source": [
        "np.random.shuffle(arr)\n",
        "arr[:split_border,:]"
      ],
      "metadata": {
        "colab": {
          "base_uri": "https://localhost:8080/"
        },
        "id": "Ng5kYHO9LykY",
        "outputId": "4ab34f98-9fd5-4bee-9dad-c409d8f50acf"
      },
      "execution_count": null,
      "outputs": [
        {
          "output_type": "execute_result",
          "data": {
            "text/plain": [
              "array([[ 5,  6,  7,  8,  9],\n",
              "       [30, 31, 32, 33, 34]])"
            ]
          },
          "metadata": {},
          "execution_count": 35
        }
      ]
    },
    {
      "cell_type": "code",
      "source": [
        "np.random.shuffle(data)\n",
        "X_learn = data[split_border:,:-1]\n",
        "X_test  = data[:split_border,:-1]\n",
        "y_learn = data[split_border:,-1]\n",
        "y_test  = data[:split_border,-1]"
      ],
      "metadata": {
        "id": "L5PDnRTPL6xA"
      },
      "execution_count": null,
      "outputs": []
    },
    {
      "cell_type": "code",
      "source": [
        "from sklearn.model_selection import train_test_split\n",
        " \n",
        "X_train, X_test, y_train, y_test = train_test_split(\n",
        "        data[:, :-1], data[:, -1], test_size=0.2, shuffle = True)"
      ],
      "metadata": {
        "id": "dUMsmDI2Mz1A"
      },
      "execution_count": null,
      "outputs": []
    },
    {
      "cell_type": "markdown",
      "source": [
        "# Lab 24"
      ],
      "metadata": {
        "id": "rY63bs9s6Q4q"
      }
    },
    {
      "cell_type": "code",
      "source": [
        "import numpy as np\n",
        "import pandas as pd\n",
        "import matplotlib.pyplot as plt\n",
        "%matplotlib inline"
      ],
      "metadata": {
        "id": "k85Jmdhh6TwP"
      },
      "execution_count": null,
      "outputs": []
    },
    {
      "cell_type": "code",
      "source": [
        "X = np.arange(1,26).reshape(5,5)\n",
        "X"
      ],
      "metadata": {
        "colab": {
          "base_uri": "https://localhost:8080/"
        },
        "id": "6L7z-d386XDH",
        "outputId": "caeeaa92-56cb-458a-8730-42377c3e921e"
      },
      "execution_count": null,
      "outputs": [
        {
          "output_type": "execute_result",
          "data": {
            "text/plain": [
              "array([[ 1,  2,  3,  4,  5],\n",
              "       [ 6,  7,  8,  9, 10],\n",
              "       [11, 12, 13, 14, 15],\n",
              "       [16, 17, 18, 19, 20],\n",
              "       [21, 22, 23, 24, 25]])"
            ]
          },
          "metadata": {},
          "execution_count": 2
        }
      ]
    },
    {
      "cell_type": "code",
      "source": [
        "Ones = np.ones((5,5))\n",
        "Ones"
      ],
      "metadata": {
        "colab": {
          "base_uri": "https://localhost:8080/"
        },
        "id": "HbusDUSm6hxv",
        "outputId": "12a430c1-575e-4573-ea42-cd6e34d6ffac"
      },
      "execution_count": null,
      "outputs": [
        {
          "output_type": "execute_result",
          "data": {
            "text/plain": [
              "array([[1., 1., 1., 1., 1.],\n",
              "       [1., 1., 1., 1., 1.],\n",
              "       [1., 1., 1., 1., 1.],\n",
              "       [1., 1., 1., 1., 1.],\n",
              "       [1., 1., 1., 1., 1.]])"
            ]
          },
          "metadata": {},
          "execution_count": 3
        }
      ]
    },
    {
      "cell_type": "code",
      "source": [
        "Ones.dot(X)"
      ],
      "metadata": {
        "colab": {
          "base_uri": "https://localhost:8080/"
        },
        "id": "JLeJkKsJ6moX",
        "outputId": "c58ed9d8-b85c-4ec8-d295-d50bf8034123"
      },
      "execution_count": null,
      "outputs": [
        {
          "output_type": "execute_result",
          "data": {
            "text/plain": [
              "array([[55., 60., 65., 70., 75.],\n",
              "       [55., 60., 65., 70., 75.],\n",
              "       [55., 60., 65., 70., 75.],\n",
              "       [55., 60., 65., 70., 75.],\n",
              "       [55., 60., 65., 70., 75.]])"
            ]
          },
          "metadata": {},
          "execution_count": 5
        }
      ]
    },
    {
      "cell_type": "code",
      "source": [
        "X.dot(Ones)"
      ],
      "metadata": {
        "colab": {
          "base_uri": "https://localhost:8080/"
        },
        "id": "jFvUlVx4DNBK",
        "outputId": "22cb07d2-9855-449c-bb8f-58be5967c130"
      },
      "execution_count": null,
      "outputs": [
        {
          "output_type": "execute_result",
          "data": {
            "text/plain": [
              "array([[ 15.,  15.,  15.,  15.,  15.],\n",
              "       [ 40.,  40.,  40.,  40.,  40.],\n",
              "       [ 65.,  65.,  65.,  65.,  65.],\n",
              "       [ 90.,  90.,  90.,  90.,  90.],\n",
              "       [115., 115., 115., 115., 115.]])"
            ]
          },
          "metadata": {},
          "execution_count": 6
        }
      ]
    },
    {
      "cell_type": "code",
      "source": [
        "diag = np.zeros((5,5))\n",
        "np.fill_diagonal(diag, 1)\n",
        "diag"
      ],
      "metadata": {
        "colab": {
          "base_uri": "https://localhost:8080/"
        },
        "id": "7yutqlv2Dl6i",
        "outputId": "4b674a90-47f2-47ab-89b0-586b2142c1d2"
      },
      "execution_count": null,
      "outputs": [
        {
          "output_type": "execute_result",
          "data": {
            "text/plain": [
              "array([[1., 0., 0., 0., 0.],\n",
              "       [0., 1., 0., 0., 0.],\n",
              "       [0., 0., 1., 0., 0.],\n",
              "       [0., 0., 0., 1., 0.],\n",
              "       [0., 0., 0., 0., 1.]])"
            ]
          },
          "metadata": {},
          "execution_count": 10
        }
      ]
    },
    {
      "cell_type": "code",
      "source": [
        "diag.dot(X)"
      ],
      "metadata": {
        "colab": {
          "base_uri": "https://localhost:8080/"
        },
        "id": "PJcF3y2kD_K6",
        "outputId": "cdbbea97-3bba-421e-c229-775c8be85cd0"
      },
      "execution_count": null,
      "outputs": [
        {
          "output_type": "execute_result",
          "data": {
            "text/plain": [
              "array([[ 1.,  2.,  3.,  4.,  5.],\n",
              "       [ 6.,  7.,  8.,  9., 10.],\n",
              "       [11., 12., 13., 14., 15.],\n",
              "       [16., 17., 18., 19., 20.],\n",
              "       [21., 22., 23., 24., 25.]])"
            ]
          },
          "metadata": {},
          "execution_count": 11
        }
      ]
    },
    {
      "cell_type": "code",
      "source": [
        "np.where(X %2 == 0, X, X + 1)"
      ],
      "metadata": {
        "colab": {
          "base_uri": "https://localhost:8080/"
        },
        "id": "6LbM9ERTENBi",
        "outputId": "ad88aac9-9573-43a1-aa07-ad1c5c85404e"
      },
      "execution_count": null,
      "outputs": [
        {
          "output_type": "execute_result",
          "data": {
            "text/plain": [
              "array([[ 2,  2,  4,  4,  6],\n",
              "       [ 6,  8,  8, 10, 10],\n",
              "       [12, 12, 14, 14, 16],\n",
              "       [16, 18, 18, 20, 20],\n",
              "       [22, 22, 24, 24, 26]])"
            ]
          },
          "metadata": {},
          "execution_count": 15
        }
      ]
    },
    {
      "cell_type": "code",
      "source": [
        "X_bis = np.where(X > 10 , 2*X, 0)\n",
        "np.count_nonzero(X_bis)"
      ],
      "metadata": {
        "colab": {
          "base_uri": "https://localhost:8080/"
        },
        "id": "LlsPJklKEaCy",
        "outputId": "1c31ceb7-bf97-477e-e23e-0dc4f62c0bcd"
      },
      "execution_count": null,
      "outputs": [
        {
          "output_type": "execute_result",
          "data": {
            "text/plain": [
              "15"
            ]
          },
          "metadata": {},
          "execution_count": 17
        }
      ]
    },
    {
      "cell_type": "code",
      "source": [
        "x = np.array([[10,20,30], [40,50,60]])\n",
        "y = np.array([[100], [200]])\n",
        "np.append(x, y, axis = 1)"
      ],
      "metadata": {
        "colab": {
          "base_uri": "https://localhost:8080/"
        },
        "id": "k3zlRnuDFIz7",
        "outputId": "44821911-62c6-41a5-ded7-40444cca3491"
      },
      "execution_count": null,
      "outputs": [
        {
          "output_type": "execute_result",
          "data": {
            "text/plain": [
              "array([[ 10,  20,  30, 100],\n",
              "       [ 40,  50,  60, 200]])"
            ]
          },
          "metadata": {},
          "execution_count": 20
        }
      ]
    },
    {
      "cell_type": "code",
      "source": [
        "np.append(x, x, axis = 0)"
      ],
      "metadata": {
        "colab": {
          "base_uri": "https://localhost:8080/"
        },
        "id": "wtGNC0o2Fi2V",
        "outputId": "43723421-efac-443d-e0e8-17918c3544f4"
      },
      "execution_count": null,
      "outputs": [
        {
          "output_type": "execute_result",
          "data": {
            "text/plain": [
              "array([[10, 20, 30],\n",
              "       [40, 50, 60],\n",
              "       [10, 20, 30],\n",
              "       [40, 50, 60]])"
            ]
          },
          "metadata": {},
          "execution_count": 21
        }
      ]
    },
    {
      "cell_type": "markdown",
      "source": [
        "# Lab 26"
      ],
      "metadata": {
        "id": "P85RwMzahPYf"
      }
    },
    {
      "cell_type": "code",
      "source": [
        "import numpy as np\n",
        "import pandas as pd\n",
        "import matplotlib.pyplot as plt\n",
        "%matplotlib inline"
      ],
      "metadata": {
        "id": "EQz-IkzGhU_B"
      },
      "execution_count": null,
      "outputs": []
    },
    {
      "cell_type": "code",
      "source": [
        "X = np.arange(-25, 25).reshape((10,5))\n",
        "X"
      ],
      "metadata": {
        "colab": {
          "base_uri": "https://localhost:8080/"
        },
        "id": "RHmw_yXqhX16",
        "outputId": "9e486263-5a25-4350-e39c-261e3d7847b4"
      },
      "execution_count": null,
      "outputs": [
        {
          "output_type": "execute_result",
          "data": {
            "text/plain": [
              "array([[-25, -24, -23, -22, -21],\n",
              "       [-20, -19, -18, -17, -16],\n",
              "       [-15, -14, -13, -12, -11],\n",
              "       [-10,  -9,  -8,  -7,  -6],\n",
              "       [ -5,  -4,  -3,  -2,  -1],\n",
              "       [  0,   1,   2,   3,   4],\n",
              "       [  5,   6,   7,   8,   9],\n",
              "       [ 10,  11,  12,  13,  14],\n",
              "       [ 15,  16,  17,  18,  19],\n",
              "       [ 20,  21,  22,  23,  24]])"
            ]
          },
          "metadata": {},
          "execution_count": 2
        }
      ]
    },
    {
      "cell_type": "code",
      "source": [
        "O = np.ones((X.shape[0], 1))\n",
        "O"
      ],
      "metadata": {
        "colab": {
          "base_uri": "https://localhost:8080/"
        },
        "id": "nI1SNqC8hvMa",
        "outputId": "502de7ec-f101-4494-8d93-8357a8a4589f"
      },
      "execution_count": null,
      "outputs": [
        {
          "output_type": "execute_result",
          "data": {
            "text/plain": [
              "array([[1.],\n",
              "       [1.],\n",
              "       [1.],\n",
              "       [1.],\n",
              "       [1.],\n",
              "       [1.],\n",
              "       [1.],\n",
              "       [1.],\n",
              "       [1.],\n",
              "       [1.]])"
            ]
          },
          "metadata": {},
          "execution_count": 4
        }
      ]
    },
    {
      "cell_type": "code",
      "source": [
        "X_1 = np.append(X, O, axis = 1)\n",
        "X_1"
      ],
      "metadata": {
        "colab": {
          "base_uri": "https://localhost:8080/"
        },
        "id": "cvKBQ-Tgh3Cr",
        "outputId": "d93a7f40-9803-4281-9db0-f134a2db7dcd"
      },
      "execution_count": null,
      "outputs": [
        {
          "output_type": "execute_result",
          "data": {
            "text/plain": [
              "array([[-25., -24., -23., -22., -21.,   1.],\n",
              "       [-20., -19., -18., -17., -16.,   1.],\n",
              "       [-15., -14., -13., -12., -11.,   1.],\n",
              "       [-10.,  -9.,  -8.,  -7.,  -6.,   1.],\n",
              "       [ -5.,  -4.,  -3.,  -2.,  -1.,   1.],\n",
              "       [  0.,   1.,   2.,   3.,   4.,   1.],\n",
              "       [  5.,   6.,   7.,   8.,   9.,   1.],\n",
              "       [ 10.,  11.,  12.,  13.,  14.,   1.],\n",
              "       [ 15.,  16.,  17.,  18.,  19.,   1.],\n",
              "       [ 20.,  21.,  22.,  23.,  24.,   1.]])"
            ]
          },
          "metadata": {},
          "execution_count": 5
        }
      ]
    },
    {
      "cell_type": "code",
      "source": [
        "w = np.random.rand(X_1.shape[1])\n",
        "w"
      ],
      "metadata": {
        "colab": {
          "base_uri": "https://localhost:8080/"
        },
        "id": "7BtR9f5OiFxS",
        "outputId": "1ec265cc-2809-47ef-ce8a-8665fcf9eeb4"
      },
      "execution_count": null,
      "outputs": [
        {
          "output_type": "execute_result",
          "data": {
            "text/plain": [
              "array([0.08228526, 0.26266012, 0.79638734, 0.30212632, 0.41294425,\n",
              "       0.20625228])"
            ]
          },
          "metadata": {},
          "execution_count": 6
        }
      ]
    },
    {
      "cell_type": "code",
      "source": [
        "def predict(x, w):\n",
        "    total_stimulation = np.dot(x, w)\n",
        "    if total_stimulation > 0:\n",
        "        return 1\n",
        "    else:\n",
        "        return -1"
      ],
      "metadata": {
        "id": "u3E7PaPWi4mc"
      },
      "execution_count": null,
      "outputs": []
    },
    {
      "cell_type": "code",
      "source": [
        "for i in X_1:\n",
        "    print(predict(i, w))"
      ],
      "metadata": {
        "colab": {
          "base_uri": "https://localhost:8080/"
        },
        "id": "CHMiydPzj3Jr",
        "outputId": "47861285-5401-4662-939c-470ad950b83b"
      },
      "execution_count": null,
      "outputs": [
        {
          "output_type": "stream",
          "name": "stdout",
          "text": [
            "-1\n",
            "-1\n",
            "-1\n",
            "-1\n",
            "-1\n",
            "1\n",
            "1\n",
            "1\n",
            "1\n",
            "1\n"
          ]
        }
      ]
    },
    {
      "cell_type": "markdown",
      "source": [
        "# Lab 28"
      ],
      "metadata": {
        "id": "M5Vnx0UaUffd"
      }
    },
    {
      "cell_type": "code",
      "source": [
        "import numpy as np\n",
        "X = np.arange(-25, 25, 1).reshape(10,5)\n",
        "ones = np.ones((X.shape[0], 1))\n",
        "X_1 = np.append(X.copy(), ones, axis=1)\n",
        "w = np.random.rand(X_1.shape[1])\n",
        "\n",
        " \n",
        "def predict(x, w):     \n",
        "    total_stimulation = np.dot(x, w)       \n",
        "    y_pred = 1 if total_stimulation > 0 else -1\n",
        "    return y_pred\n",
        "X_1       "
      ],
      "metadata": {
        "colab": {
          "base_uri": "https://localhost:8080/"
        },
        "id": "WQ-AS3YNUk3t",
        "outputId": "21141faf-2ce4-402a-9aec-99a186ade764"
      },
      "execution_count": null,
      "outputs": [
        {
          "output_type": "execute_result",
          "data": {
            "text/plain": [
              "array([[-25., -24., -23., -22., -21.,   1.],\n",
              "       [-20., -19., -18., -17., -16.,   1.],\n",
              "       [-15., -14., -13., -12., -11.,   1.],\n",
              "       [-10.,  -9.,  -8.,  -7.,  -6.,   1.],\n",
              "       [ -5.,  -4.,  -3.,  -2.,  -1.,   1.],\n",
              "       [  0.,   1.,   2.,   3.,   4.,   1.],\n",
              "       [  5.,   6.,   7.,   8.,   9.,   1.],\n",
              "       [ 10.,  11.,  12.,  13.,  14.,   1.],\n",
              "       [ 15.,  16.,  17.,  18.,  19.,   1.],\n",
              "       [ 20.,  21.,  22.,  23.,  24.,   1.]])"
            ]
          },
          "metadata": {},
          "execution_count": 2
        }
      ]
    },
    {
      "cell_type": "code",
      "source": [
        "y = np.array([1, -1, -1, 1, -1, 1, -1, -1, 1, -1])\n",
        "eta = 0.01"
      ],
      "metadata": {
        "id": "rJ0mVGNwU7R1"
      },
      "execution_count": null,
      "outputs": []
    },
    {
      "cell_type": "code",
      "source": [
        "epochs = 10\n",
        "for i in range(epochs):\n",
        "    for x, y_target in zip(X_1, y):\n",
        "        y_pred = predict(x, w)\n",
        "        delta_w = eta * (y_target - y_pred) * x\n",
        "        w += delta_w\n",
        "        print(w) "
      ],
      "metadata": {
        "colab": {
          "base_uri": "https://localhost:8080/"
        },
        "id": "bmkXzcu1WEp1",
        "outputId": "1ddbc5d0-4299-475f-bcb8-1f837ecafb51"
      },
      "execution_count": null,
      "outputs": [
        {
          "output_type": "stream",
          "name": "stdout",
          "text": [
            "[ 6.37455001  3.22816874 -0.91567665 -4.35657067 -8.35713955 -3.53458824]\n",
            "[ 6.77455001  3.60816874 -0.55567665 -4.01657067 -8.03713955 -3.55458824]\n",
            "[ 6.77455001  3.60816874 -0.55567665 -4.01657067 -8.03713955 -3.55458824]\n",
            "[ 6.57455001  3.42816874 -0.71567665 -4.15657067 -8.15713955 -3.53458824]\n",
            "[ 6.57455001  3.42816874 -0.71567665 -4.15657067 -8.15713955 -3.53458824]\n",
            "[ 6.57455001  3.44816874 -0.67567665 -4.09657067 -8.07713955 -3.51458824]\n",
            "[ 6.57455001  3.44816874 -0.67567665 -4.09657067 -8.07713955 -3.51458824]\n",
            "[ 6.57455001  3.44816874 -0.67567665 -4.09657067 -8.07713955 -3.51458824]\n",
            "[ 6.87455001  3.76816874 -0.33567665 -3.73657067 -7.69713955 -3.49458824]\n",
            "[ 6.87455001  3.76816874 -0.33567665 -3.73657067 -7.69713955 -3.49458824]\n",
            "[ 6.37455001  3.28816874 -0.79567665 -4.17657067 -8.11713955 -3.47458824]\n",
            "[ 6.77455001  3.66816874 -0.43567665 -3.83657067 -7.79713955 -3.49458824]\n",
            "[ 6.77455001  3.66816874 -0.43567665 -3.83657067 -7.79713955 -3.49458824]\n",
            "[ 6.57455001  3.48816874 -0.59567665 -3.97657067 -7.91713955 -3.47458824]\n",
            "[ 6.57455001  3.48816874 -0.59567665 -3.97657067 -7.91713955 -3.47458824]\n",
            "[ 6.57455001  3.50816874 -0.55567665 -3.91657067 -7.83713955 -3.45458824]\n",
            "[ 6.57455001  3.50816874 -0.55567665 -3.91657067 -7.83713955 -3.45458824]\n",
            "[ 6.57455001  3.50816874 -0.55567665 -3.91657067 -7.83713955 -3.45458824]\n",
            "[ 6.87455001  3.82816874 -0.21567665 -3.55657067 -7.45713955 -3.43458824]\n",
            "[ 6.87455001  3.82816874 -0.21567665 -3.55657067 -7.45713955 -3.43458824]\n",
            "[ 6.37455001  3.34816874 -0.67567665 -3.99657067 -7.87713955 -3.41458824]\n",
            "[ 6.77455001  3.72816874 -0.31567665 -3.65657067 -7.55713955 -3.43458824]\n",
            "[ 6.77455001  3.72816874 -0.31567665 -3.65657067 -7.55713955 -3.43458824]\n",
            "[ 6.57455001  3.54816874 -0.47567665 -3.79657067 -7.67713955 -3.41458824]\n",
            "[ 6.57455001  3.54816874 -0.47567665 -3.79657067 -7.67713955 -3.41458824]\n",
            "[ 6.57455001  3.56816874 -0.43567665 -3.73657067 -7.59713955 -3.39458824]\n",
            "[ 6.57455001  3.56816874 -0.43567665 -3.73657067 -7.59713955 -3.39458824]\n",
            "[ 6.57455001  3.56816874 -0.43567665 -3.73657067 -7.59713955 -3.39458824]\n",
            "[ 6.87455001  3.88816874 -0.09567665 -3.37657067 -7.21713955 -3.37458824]\n",
            "[ 6.87455001  3.88816874 -0.09567665 -3.37657067 -7.21713955 -3.37458824]\n",
            "[ 6.37455001  3.40816874 -0.55567665 -3.81657067 -7.63713955 -3.35458824]\n",
            "[ 6.77455001  3.78816874 -0.19567665 -3.47657067 -7.31713955 -3.37458824]\n",
            "[ 6.77455001  3.78816874 -0.19567665 -3.47657067 -7.31713955 -3.37458824]\n",
            "[ 6.57455001  3.60816874 -0.35567665 -3.61657067 -7.43713955 -3.35458824]\n",
            "[ 6.57455001  3.60816874 -0.35567665 -3.61657067 -7.43713955 -3.35458824]\n",
            "[ 6.57455001  3.62816874 -0.31567665 -3.55657067 -7.35713955 -3.33458824]\n",
            "[ 6.57455001  3.62816874 -0.31567665 -3.55657067 -7.35713955 -3.33458824]\n",
            "[ 6.57455001  3.62816874 -0.31567665 -3.55657067 -7.35713955 -3.33458824]\n",
            "[ 6.87455001  3.94816874  0.02432335 -3.19657067 -6.97713955 -3.31458824]\n",
            "[ 6.87455001  3.94816874  0.02432335 -3.19657067 -6.97713955 -3.31458824]\n",
            "[ 6.37455001  3.46816874 -0.43567665 -3.63657067 -7.39713955 -3.29458824]\n",
            "[ 6.37455001  3.46816874 -0.43567665 -3.63657067 -7.39713955 -3.29458824]\n",
            "[ 6.37455001  3.46816874 -0.43567665 -3.63657067 -7.39713955 -3.29458824]\n",
            "[ 6.17455001  3.28816874 -0.59567665 -3.77657067 -7.51713955 -3.27458824]\n",
            "[ 6.17455001  3.28816874 -0.59567665 -3.77657067 -7.51713955 -3.27458824]\n",
            "[ 6.17455001  3.30816874 -0.55567665 -3.71657067 -7.43713955 -3.25458824]\n",
            "[ 6.17455001  3.30816874 -0.55567665 -3.71657067 -7.43713955 -3.25458824]\n",
            "[ 6.17455001  3.30816874 -0.55567665 -3.71657067 -7.43713955 -3.25458824]\n",
            "[ 6.47455001  3.62816874 -0.21567665 -3.35657067 -7.05713955 -3.23458824]\n",
            "[ 6.47455001  3.62816874 -0.21567665 -3.35657067 -7.05713955 -3.23458824]\n",
            "[ 5.97455001  3.14816874 -0.67567665 -3.79657067 -7.47713955 -3.21458824]\n",
            "[ 6.37455001  3.52816874 -0.31567665 -3.45657067 -7.15713955 -3.23458824]\n",
            "[ 6.37455001  3.52816874 -0.31567665 -3.45657067 -7.15713955 -3.23458824]\n",
            "[ 6.17455001  3.34816874 -0.47567665 -3.59657067 -7.27713955 -3.21458824]\n",
            "[ 6.17455001  3.34816874 -0.47567665 -3.59657067 -7.27713955 -3.21458824]\n",
            "[ 6.17455001  3.36816874 -0.43567665 -3.53657067 -7.19713955 -3.19458824]\n",
            "[ 6.17455001  3.36816874 -0.43567665 -3.53657067 -7.19713955 -3.19458824]\n",
            "[ 6.17455001  3.36816874 -0.43567665 -3.53657067 -7.19713955 -3.19458824]\n",
            "[ 6.47455001  3.68816874 -0.09567665 -3.17657067 -6.81713955 -3.17458824]\n",
            "[ 6.47455001  3.68816874 -0.09567665 -3.17657067 -6.81713955 -3.17458824]\n",
            "[ 5.97455001  3.20816874 -0.55567665 -3.61657067 -7.23713955 -3.15458824]\n",
            "[ 6.37455001  3.58816874 -0.19567665 -3.27657067 -6.91713955 -3.17458824]\n",
            "[ 6.37455001  3.58816874 -0.19567665 -3.27657067 -6.91713955 -3.17458824]\n",
            "[ 6.17455001  3.40816874 -0.35567665 -3.41657067 -7.03713955 -3.15458824]\n",
            "[ 6.17455001  3.40816874 -0.35567665 -3.41657067 -7.03713955 -3.15458824]\n",
            "[ 6.17455001  3.42816874 -0.31567665 -3.35657067 -6.95713955 -3.13458824]\n",
            "[ 6.17455001  3.42816874 -0.31567665 -3.35657067 -6.95713955 -3.13458824]\n",
            "[ 6.17455001  3.42816874 -0.31567665 -3.35657067 -6.95713955 -3.13458824]\n",
            "[ 6.47455001  3.74816874  0.02432335 -2.99657067 -6.57713955 -3.11458824]\n",
            "[ 6.47455001  3.74816874  0.02432335 -2.99657067 -6.57713955 -3.11458824]\n",
            "[ 5.97455001  3.26816874 -0.43567665 -3.43657067 -6.99713955 -3.09458824]\n",
            "[ 5.97455001  3.26816874 -0.43567665 -3.43657067 -6.99713955 -3.09458824]\n",
            "[ 5.97455001  3.26816874 -0.43567665 -3.43657067 -6.99713955 -3.09458824]\n",
            "[ 5.77455001  3.08816874 -0.59567665 -3.57657067 -7.11713955 -3.07458824]\n",
            "[ 5.77455001  3.08816874 -0.59567665 -3.57657067 -7.11713955 -3.07458824]\n",
            "[ 5.77455001  3.10816874 -0.55567665 -3.51657067 -7.03713955 -3.05458824]\n",
            "[ 5.77455001  3.10816874 -0.55567665 -3.51657067 -7.03713955 -3.05458824]\n",
            "[ 5.77455001  3.10816874 -0.55567665 -3.51657067 -7.03713955 -3.05458824]\n",
            "[ 6.07455001  3.42816874 -0.21567665 -3.15657067 -6.65713955 -3.03458824]\n",
            "[ 6.07455001  3.42816874 -0.21567665 -3.15657067 -6.65713955 -3.03458824]\n",
            "[ 5.57455001  2.94816874 -0.67567665 -3.59657067 -7.07713955 -3.01458824]\n",
            "[ 5.97455001  3.32816874 -0.31567665 -3.25657067 -6.75713955 -3.03458824]\n",
            "[ 5.97455001  3.32816874 -0.31567665 -3.25657067 -6.75713955 -3.03458824]\n",
            "[ 5.77455001  3.14816874 -0.47567665 -3.39657067 -6.87713955 -3.01458824]\n",
            "[ 5.77455001  3.14816874 -0.47567665 -3.39657067 -6.87713955 -3.01458824]\n",
            "[ 5.77455001  3.16816874 -0.43567665 -3.33657067 -6.79713955 -2.99458824]\n",
            "[ 5.77455001  3.16816874 -0.43567665 -3.33657067 -6.79713955 -2.99458824]\n",
            "[ 5.77455001  3.16816874 -0.43567665 -3.33657067 -6.79713955 -2.99458824]\n",
            "[ 6.07455001  3.48816874 -0.09567665 -2.97657067 -6.41713955 -2.97458824]\n",
            "[ 6.07455001  3.48816874 -0.09567665 -2.97657067 -6.41713955 -2.97458824]\n",
            "[ 5.57455001  3.00816874 -0.55567665 -3.41657067 -6.83713955 -2.95458824]\n",
            "[ 5.97455001  3.38816874 -0.19567665 -3.07657067 -6.51713955 -2.97458824]\n",
            "[ 5.97455001  3.38816874 -0.19567665 -3.07657067 -6.51713955 -2.97458824]\n",
            "[ 5.77455001  3.20816874 -0.35567665 -3.21657067 -6.63713955 -2.95458824]\n",
            "[ 5.77455001  3.20816874 -0.35567665 -3.21657067 -6.63713955 -2.95458824]\n",
            "[ 5.77455001  3.22816874 -0.31567665 -3.15657067 -6.55713955 -2.93458824]\n",
            "[ 5.77455001  3.22816874 -0.31567665 -3.15657067 -6.55713955 -2.93458824]\n",
            "[ 5.77455001  3.22816874 -0.31567665 -3.15657067 -6.55713955 -2.93458824]\n",
            "[ 6.07455001  3.54816874  0.02432335 -2.79657067 -6.17713955 -2.91458824]\n",
            "[ 6.07455001  3.54816874  0.02432335 -2.79657067 -6.17713955 -2.91458824]\n"
          ]
        }
      ]
    },
    {
      "cell_type": "markdown",
      "source": [
        "# Lab 30"
      ],
      "metadata": {
        "id": "MYlyrx3fkvvc"
      }
    },
    {
      "cell_type": "code",
      "source": [
        "import numpy as np\n",
        "import matplotlib.pyplot as plt\n",
        " \n",
        "class Perceptron:\n",
        "    \n",
        "    def __init__(self, eta=0.10, epochs=50):\n",
        "        \n",
        "        self.eta = eta\n",
        "        self.epochs = epochs\n",
        "        \n",
        "        \n",
        "    def predict(self, x):\n",
        "        \n",
        "        total_stimulation = np.dot(x, self.w)       \n",
        "        y_pred = 1 if total_stimulation > 0 else -1\n",
        "        return y_pred\n",
        "        \n",
        "    \n",
        "    def fit(self, X, y):\n",
        "        \n",
        "        ones = np.ones((X.shape[0], 1))\n",
        "        X_1 = np.append(X.copy(), ones, axis=1)\n",
        " \n",
        "        self.w = np.random.rand(X_1.shape[1])\n",
        "        \n",
        "        for e in range(self.epochs):\n",
        " \n",
        "            for x, y_target in zip(X_1,y):\n",
        "            \n",
        "                y_pred = self.predict(x)\n",
        "                delta_w = self.eta * (y_target - y_pred) * x\n",
        "                self.w += delta_w"
      ],
      "metadata": {
        "id": "VBExew40k48X"
      },
      "execution_count": null,
      "outputs": []
    },
    {
      "cell_type": "code",
      "source": [
        "import numpy as np\n",
        "import matplotlib.pyplot as plt\n",
        " \n",
        "class Perceptron:\n",
        "    \n",
        "    def __init__(self, eta=0.10, epochs=50, is_verbose = False):\n",
        "        \n",
        "        self.eta = eta\n",
        "        self.epochs = epochs\n",
        "        self.is_verbose = is_verbose\n",
        "        self.list_of_errors = []\n",
        "        \n",
        "        \n",
        "    def predict(self, x):\n",
        "        \n",
        "        total_stimulation = np.dot(x, self.w)       \n",
        "        y_pred = 1 if total_stimulation > 0 else -1\n",
        "        return y_pred\n",
        "        \n",
        "    \n",
        "    def fit(self, X, y):\n",
        "        \n",
        "        self.list_of_errors = []\n",
        "        \n",
        "        ones = np.ones((X.shape[0], 1))\n",
        "        X_1 = np.append(X.copy(), ones, axis=1)\n",
        " \n",
        "        self.w = np.random.rand(X_1.shape[1])\n",
        "        \n",
        "        for e in range(self.epochs):\n",
        " \n",
        "            number_of_errors = 0\n",
        "            \n",
        "            for x, y_target in zip(X_1,y):\n",
        "            \n",
        "                y_pred = self.predict(x)\n",
        "                delta_w = self.eta * (y_target - y_pred) * x\n",
        "                self.w += delta_w\n",
        "                \n",
        "                number_of_errors += 1 if y_target != y_pred else 0\n",
        "                \n",
        "            self.list_of_errors.append(number_of_errors)\n",
        "            \n",
        "            if(self.is_verbose):\n",
        "                print(\"Epoch: {}, weights: {}, number of errors {}\".format(\n",
        "                        e, self.w, number_of_errors))\n",
        "                \n",
        "                \n",
        "                \n",
        " \n",
        " "
      ],
      "metadata": {
        "id": "dKkfKN-KlvZx"
      },
      "execution_count": null,
      "outputs": []
    },
    {
      "cell_type": "code",
      "source": [
        "X = np.array([\n",
        "    [2, 4,  20],  # 2*2 - 4*4 + 20 =   8 > 0\n",
        "    [4, 3, -10],  # 2*4 - 4*3 - 10 = -14 < 0\n",
        "    [5, 6,  13],  # 2*5 - 4*6 + 13 =  -1 < 0\n",
        "    [5, 4,   8],  # 2*5 - 4*4 + 8 =    2 > 0\n",
        "    [3, 4,   5],  # 2*3 - 4*4 + 5 =   -5 < 0 \n",
        "    [3, 0,   -5],  # 2*3 - 0*4 - 5 =   -1 < 0 \n",
        "    [1, 1,   -1],  # 2*1 - 4*1 - 1 =   -3 < 0 \n",
        "    [1, -1,   -5],  # 2*1 - 4*1 - 1 =   1 > 0 \n",
        "])\n",
        " \n",
        "y = np.array([1, -1, -1, 1, -1, -1, -1, 1])\n",
        " \n",
        "perceptron = Perceptron(eta=0.1, epochs=100, is_verbose=True)            \n",
        "perceptron.fit(X, y)\n",
        " \n",
        "print(perceptron.w)\n",
        " \n",
        "print(perceptron.predict(np.array([[1, 2, 3, 1]])))  # 2*1 - 4*2 + 3 = -3 < 0\n",
        "print(perceptron.predict(np.array([[2, 2, 8, 1]])))  # 2*2 - 4*2 + 8 =  4 > 0\n",
        "print(perceptron.predict(np.array([[3, 3, 3, 1]])))  # 2*3 - 4*3 + 3 = -3 < 0\n",
        " \n",
        "%matplotlib inline\n",
        " \n",
        "plt.scatter(range(perceptron.epochs), perceptron.list_of_errors)\n"
      ],
      "metadata": {
        "colab": {
          "base_uri": "https://localhost:8080/",
          "height": 1000
        },
        "id": "l2-S5U8rmWaw",
        "outputId": "157a4039-e609-4f72-c4b8-e3f9daba04fb"
      },
      "execution_count": null,
      "outputs": [
        {
          "output_type": "stream",
          "name": "stdout",
          "text": [
            "Epoch: 0, weights: [ 0.27462307 -0.36928365 -0.37434117  0.2012755 ], number of errors 4\n",
            "Epoch: 1, weights: [-9.25376929e-01 -1.56928365e+00  2.56588263e-02  1.27549650e-03], number of errors 3\n",
            "Epoch: 2, weights: [-0.92537693 -2.16928365  1.02565883  0.2012755 ], number of errors 5\n",
            "Epoch: 3, weights: [-0.32537693 -2.36928365  0.62565883  0.4012755 ], number of errors 3\n",
            "Epoch: 4, weights: [ 0.27462307 -2.56928365  0.22565883  0.6012755 ], number of errors 3\n",
            "Epoch: 5, weights: [-0.12537693 -3.16928365  0.62565883  0.8012755 ], number of errors 3\n",
            "Epoch: 6, weights: [ 0.47462307 -3.36928365  0.22565883  1.0012755 ], number of errors 3\n",
            "Epoch: 7, weights: [ 0.47462307 -3.96928365  1.22565883  1.2012755 ], number of errors 5\n",
            "Epoch: 8, weights: [ 1.07462307 -4.16928365  0.82565883  1.4012755 ], number of errors 3\n",
            "Epoch: 9, weights: [ 1.67462307 -4.36928365  0.42565883  1.6012755 ], number of errors 3\n",
            "Epoch: 10, weights: [ 1.27462307 -4.96928365  0.82565883  1.8012755 ], number of errors 3\n",
            "Epoch: 11, weights: [ 1.67462307 -4.96928365  1.42565883  1.8012755 ], number of errors 2\n",
            "Epoch: 12, weights: [ 1.67462307 -4.96928365  1.42565883  1.8012755 ], number of errors 0\n",
            "Epoch: 13, weights: [ 1.67462307 -4.96928365  1.42565883  1.8012755 ], number of errors 0\n",
            "Epoch: 14, weights: [ 1.67462307 -4.96928365  1.42565883  1.8012755 ], number of errors 0\n",
            "Epoch: 15, weights: [ 1.67462307 -4.96928365  1.42565883  1.8012755 ], number of errors 0\n",
            "Epoch: 16, weights: [ 1.67462307 -4.96928365  1.42565883  1.8012755 ], number of errors 0\n",
            "Epoch: 17, weights: [ 1.67462307 -4.96928365  1.42565883  1.8012755 ], number of errors 0\n",
            "Epoch: 18, weights: [ 1.67462307 -4.96928365  1.42565883  1.8012755 ], number of errors 0\n",
            "Epoch: 19, weights: [ 1.67462307 -4.96928365  1.42565883  1.8012755 ], number of errors 0\n",
            "Epoch: 20, weights: [ 1.67462307 -4.96928365  1.42565883  1.8012755 ], number of errors 0\n",
            "Epoch: 21, weights: [ 1.67462307 -4.96928365  1.42565883  1.8012755 ], number of errors 0\n",
            "Epoch: 22, weights: [ 1.67462307 -4.96928365  1.42565883  1.8012755 ], number of errors 0\n",
            "Epoch: 23, weights: [ 1.67462307 -4.96928365  1.42565883  1.8012755 ], number of errors 0\n",
            "Epoch: 24, weights: [ 1.67462307 -4.96928365  1.42565883  1.8012755 ], number of errors 0\n",
            "Epoch: 25, weights: [ 1.67462307 -4.96928365  1.42565883  1.8012755 ], number of errors 0\n",
            "Epoch: 26, weights: [ 1.67462307 -4.96928365  1.42565883  1.8012755 ], number of errors 0\n",
            "Epoch: 27, weights: [ 1.67462307 -4.96928365  1.42565883  1.8012755 ], number of errors 0\n",
            "Epoch: 28, weights: [ 1.67462307 -4.96928365  1.42565883  1.8012755 ], number of errors 0\n",
            "Epoch: 29, weights: [ 1.67462307 -4.96928365  1.42565883  1.8012755 ], number of errors 0\n",
            "Epoch: 30, weights: [ 1.67462307 -4.96928365  1.42565883  1.8012755 ], number of errors 0\n",
            "Epoch: 31, weights: [ 1.67462307 -4.96928365  1.42565883  1.8012755 ], number of errors 0\n",
            "Epoch: 32, weights: [ 1.67462307 -4.96928365  1.42565883  1.8012755 ], number of errors 0\n",
            "Epoch: 33, weights: [ 1.67462307 -4.96928365  1.42565883  1.8012755 ], number of errors 0\n",
            "Epoch: 34, weights: [ 1.67462307 -4.96928365  1.42565883  1.8012755 ], number of errors 0\n",
            "Epoch: 35, weights: [ 1.67462307 -4.96928365  1.42565883  1.8012755 ], number of errors 0\n",
            "Epoch: 36, weights: [ 1.67462307 -4.96928365  1.42565883  1.8012755 ], number of errors 0\n",
            "Epoch: 37, weights: [ 1.67462307 -4.96928365  1.42565883  1.8012755 ], number of errors 0\n",
            "Epoch: 38, weights: [ 1.67462307 -4.96928365  1.42565883  1.8012755 ], number of errors 0\n",
            "Epoch: 39, weights: [ 1.67462307 -4.96928365  1.42565883  1.8012755 ], number of errors 0\n",
            "Epoch: 40, weights: [ 1.67462307 -4.96928365  1.42565883  1.8012755 ], number of errors 0\n",
            "Epoch: 41, weights: [ 1.67462307 -4.96928365  1.42565883  1.8012755 ], number of errors 0\n",
            "Epoch: 42, weights: [ 1.67462307 -4.96928365  1.42565883  1.8012755 ], number of errors 0\n",
            "Epoch: 43, weights: [ 1.67462307 -4.96928365  1.42565883  1.8012755 ], number of errors 0\n",
            "Epoch: 44, weights: [ 1.67462307 -4.96928365  1.42565883  1.8012755 ], number of errors 0\n",
            "Epoch: 45, weights: [ 1.67462307 -4.96928365  1.42565883  1.8012755 ], number of errors 0\n",
            "Epoch: 46, weights: [ 1.67462307 -4.96928365  1.42565883  1.8012755 ], number of errors 0\n",
            "Epoch: 47, weights: [ 1.67462307 -4.96928365  1.42565883  1.8012755 ], number of errors 0\n",
            "Epoch: 48, weights: [ 1.67462307 -4.96928365  1.42565883  1.8012755 ], number of errors 0\n",
            "Epoch: 49, weights: [ 1.67462307 -4.96928365  1.42565883  1.8012755 ], number of errors 0\n",
            "Epoch: 50, weights: [ 1.67462307 -4.96928365  1.42565883  1.8012755 ], number of errors 0\n",
            "Epoch: 51, weights: [ 1.67462307 -4.96928365  1.42565883  1.8012755 ], number of errors 0\n",
            "Epoch: 52, weights: [ 1.67462307 -4.96928365  1.42565883  1.8012755 ], number of errors 0\n",
            "Epoch: 53, weights: [ 1.67462307 -4.96928365  1.42565883  1.8012755 ], number of errors 0\n",
            "Epoch: 54, weights: [ 1.67462307 -4.96928365  1.42565883  1.8012755 ], number of errors 0\n",
            "Epoch: 55, weights: [ 1.67462307 -4.96928365  1.42565883  1.8012755 ], number of errors 0\n",
            "Epoch: 56, weights: [ 1.67462307 -4.96928365  1.42565883  1.8012755 ], number of errors 0\n",
            "Epoch: 57, weights: [ 1.67462307 -4.96928365  1.42565883  1.8012755 ], number of errors 0\n",
            "Epoch: 58, weights: [ 1.67462307 -4.96928365  1.42565883  1.8012755 ], number of errors 0\n",
            "Epoch: 59, weights: [ 1.67462307 -4.96928365  1.42565883  1.8012755 ], number of errors 0\n",
            "Epoch: 60, weights: [ 1.67462307 -4.96928365  1.42565883  1.8012755 ], number of errors 0\n",
            "Epoch: 61, weights: [ 1.67462307 -4.96928365  1.42565883  1.8012755 ], number of errors 0\n",
            "Epoch: 62, weights: [ 1.67462307 -4.96928365  1.42565883  1.8012755 ], number of errors 0\n",
            "Epoch: 63, weights: [ 1.67462307 -4.96928365  1.42565883  1.8012755 ], number of errors 0\n",
            "Epoch: 64, weights: [ 1.67462307 -4.96928365  1.42565883  1.8012755 ], number of errors 0\n",
            "Epoch: 65, weights: [ 1.67462307 -4.96928365  1.42565883  1.8012755 ], number of errors 0\n",
            "Epoch: 66, weights: [ 1.67462307 -4.96928365  1.42565883  1.8012755 ], number of errors 0\n",
            "Epoch: 67, weights: [ 1.67462307 -4.96928365  1.42565883  1.8012755 ], number of errors 0\n",
            "Epoch: 68, weights: [ 1.67462307 -4.96928365  1.42565883  1.8012755 ], number of errors 0\n",
            "Epoch: 69, weights: [ 1.67462307 -4.96928365  1.42565883  1.8012755 ], number of errors 0\n",
            "Epoch: 70, weights: [ 1.67462307 -4.96928365  1.42565883  1.8012755 ], number of errors 0\n",
            "Epoch: 71, weights: [ 1.67462307 -4.96928365  1.42565883  1.8012755 ], number of errors 0\n",
            "Epoch: 72, weights: [ 1.67462307 -4.96928365  1.42565883  1.8012755 ], number of errors 0\n",
            "Epoch: 73, weights: [ 1.67462307 -4.96928365  1.42565883  1.8012755 ], number of errors 0\n",
            "Epoch: 74, weights: [ 1.67462307 -4.96928365  1.42565883  1.8012755 ], number of errors 0\n",
            "Epoch: 75, weights: [ 1.67462307 -4.96928365  1.42565883  1.8012755 ], number of errors 0\n",
            "Epoch: 76, weights: [ 1.67462307 -4.96928365  1.42565883  1.8012755 ], number of errors 0\n",
            "Epoch: 77, weights: [ 1.67462307 -4.96928365  1.42565883  1.8012755 ], number of errors 0\n",
            "Epoch: 78, weights: [ 1.67462307 -4.96928365  1.42565883  1.8012755 ], number of errors 0\n",
            "Epoch: 79, weights: [ 1.67462307 -4.96928365  1.42565883  1.8012755 ], number of errors 0\n",
            "Epoch: 80, weights: [ 1.67462307 -4.96928365  1.42565883  1.8012755 ], number of errors 0\n",
            "Epoch: 81, weights: [ 1.67462307 -4.96928365  1.42565883  1.8012755 ], number of errors 0\n",
            "Epoch: 82, weights: [ 1.67462307 -4.96928365  1.42565883  1.8012755 ], number of errors 0\n",
            "Epoch: 83, weights: [ 1.67462307 -4.96928365  1.42565883  1.8012755 ], number of errors 0\n",
            "Epoch: 84, weights: [ 1.67462307 -4.96928365  1.42565883  1.8012755 ], number of errors 0\n",
            "Epoch: 85, weights: [ 1.67462307 -4.96928365  1.42565883  1.8012755 ], number of errors 0\n",
            "Epoch: 86, weights: [ 1.67462307 -4.96928365  1.42565883  1.8012755 ], number of errors 0\n",
            "Epoch: 87, weights: [ 1.67462307 -4.96928365  1.42565883  1.8012755 ], number of errors 0\n",
            "Epoch: 88, weights: [ 1.67462307 -4.96928365  1.42565883  1.8012755 ], number of errors 0\n",
            "Epoch: 89, weights: [ 1.67462307 -4.96928365  1.42565883  1.8012755 ], number of errors 0\n",
            "Epoch: 90, weights: [ 1.67462307 -4.96928365  1.42565883  1.8012755 ], number of errors 0\n",
            "Epoch: 91, weights: [ 1.67462307 -4.96928365  1.42565883  1.8012755 ], number of errors 0\n",
            "Epoch: 92, weights: [ 1.67462307 -4.96928365  1.42565883  1.8012755 ], number of errors 0\n",
            "Epoch: 93, weights: [ 1.67462307 -4.96928365  1.42565883  1.8012755 ], number of errors 0\n",
            "Epoch: 94, weights: [ 1.67462307 -4.96928365  1.42565883  1.8012755 ], number of errors 0\n",
            "Epoch: 95, weights: [ 1.67462307 -4.96928365  1.42565883  1.8012755 ], number of errors 0\n",
            "Epoch: 96, weights: [ 1.67462307 -4.96928365  1.42565883  1.8012755 ], number of errors 0\n",
            "Epoch: 97, weights: [ 1.67462307 -4.96928365  1.42565883  1.8012755 ], number of errors 0\n",
            "Epoch: 98, weights: [ 1.67462307 -4.96928365  1.42565883  1.8012755 ], number of errors 0\n",
            "Epoch: 99, weights: [ 1.67462307 -4.96928365  1.42565883  1.8012755 ], number of errors 0\n",
            "[ 1.67462307 -4.96928365  1.42565883  1.8012755 ]\n",
            "-1\n",
            "1\n",
            "-1\n"
          ]
        },
        {
          "output_type": "execute_result",
          "data": {
            "text/plain": [
              "<matplotlib.collections.PathCollection at 0x7f1658076b80>"
            ]
          },
          "metadata": {},
          "execution_count": 7
        },
        {
          "output_type": "display_data",
          "data": {
            "text/plain": [
              "<Figure size 432x288 with 1 Axes>"
            ],
            "image/png": "[encoded data removed]"
          },
          "metadata": {
            "needs_background": "light"
          }
        }
      ]
    },
    {
      "cell_type": "markdown",
      "source": [
        "# Lab 32"
      ],
      "metadata": {
        "id": "a6wxn7Qf3ohd"
      }
    },
    {
      "cell_type": "code",
      "source": [
        "import time\n",
        "import numpy as np\n",
        "import matplotlib.pyplot as plt\n",
        "%matplotlib inline\n",
        " \n",
        " \n",
        "num_iterations = 40\n",
        "time_results_loop = []\n",
        " \n",
        "for iteration in range(1, num_iterations+1):\n",
        "    \n",
        "    start_time = time.time()\n",
        "    \n",
        "    data1 = np.ones(shape=(10*iteration, 10*iteration), dtype=float)\n",
        "    data2 = np.ones(shape=(10*iteration, 10*iteration), dtype=float)\n",
        "    data3 = np.zeros(shape=(10*iteration, 10*iteration), dtype=float)\n",
        "    for i in range(data1.shape[0]):\n",
        "        for j in range(data1.shape[0]):\n",
        "            data3[i,j] = sum([data1[i, v] * data2[v, j] for v in range(data1.shape[1])])\n",
        "           \n",
        "    end_time = time.time()\n",
        "    \n",
        "    print('{} - :{}'.format(iteration, end_time - start_time))    \n",
        "    time_results_loop.append(end_time - start_time)"
      ],
      "metadata": {
        "colab": {
          "base_uri": "https://localhost:8080/",
          "height": 929
        },
        "id": "yFn5gT5g3oKN",
        "outputId": "2b10ab08-760f-46da-c885-c8ea40a16cbf"
      },
      "execution_count": null,
      "outputs": [
        {
          "output_type": "stream",
          "name": "stdout",
          "text": [
            "1 - :0.0011355876922607422\n",
            "2 - :0.020873546600341797\n",
            "3 - :0.04820823669433594\n",
            "4 - :0.12374258041381836\n",
            "5 - :0.24799680709838867\n",
            "6 - :0.4650993347167969\n",
            "7 - :0.6545968055725098\n",
            "8 - :0.9283633232116699\n",
            "9 - :1.2728209495544434\n",
            "10 - :1.4037818908691406\n",
            "11 - :1.1200158596038818\n",
            "12 - :0.9848048686981201\n",
            "13 - :1.0149040222167969\n",
            "14 - :1.3730289936065674\n",
            "15 - :1.628432273864746\n",
            "16 - :1.945429801940918\n",
            "17 - :4.310359954833984\n",
            "18 - :2.6011929512023926\n",
            "19 - :3.2120816707611084\n",
            "20 - :3.8256893157958984\n",
            "21 - :5.540989875793457\n",
            "22 - :5.78722882270813\n",
            "23 - :17.626273155212402\n",
            "24 - :8.341901779174805\n",
            "25 - :8.61234188079834\n",
            "26 - :9.641369342803955\n",
            "27 - :8.893425703048706\n",
            "28 - :13.036139965057373\n",
            "29 - :12.928668737411499\n",
            "30 - :14.84301495552063\n",
            "31 - :15.506844520568848\n",
            "32 - :17.86854577064514\n",
            "33 - :19.264556407928467\n"
          ]
        },
        {
          "output_type": "error",
          "ename": "KeyboardInterrupt",
          "evalue": "ignored",
          "traceback": [
            "\u001b[0;31m---------------------------------------------------------------------------\u001b[0m",
            "\u001b[0;31mKeyboardInterrupt\u001b[0m                         Traceback (most recent call last)",
            "\u001b[0;32m<ipython-input-11-79fe2b1d36ee>\u001b[0m in \u001b[0;36m<module>\u001b[0;34m\u001b[0m\n\u001b[1;32m     17\u001b[0m     \u001b[0;32mfor\u001b[0m \u001b[0mi\u001b[0m \u001b[0;32min\u001b[0m \u001b[0mrange\u001b[0m\u001b[0;34m(\u001b[0m\u001b[0mdata1\u001b[0m\u001b[0;34m.\u001b[0m\u001b[0mshape\u001b[0m\u001b[0;34m[\u001b[0m\u001b[0;36m0\u001b[0m\u001b[0;34m]\u001b[0m\u001b[0;34m)\u001b[0m\u001b[0;34m:\u001b[0m\u001b[0;34m\u001b[0m\u001b[0;34m\u001b[0m\u001b[0m\n\u001b[1;32m     18\u001b[0m         \u001b[0;32mfor\u001b[0m \u001b[0mj\u001b[0m \u001b[0;32min\u001b[0m \u001b[0mrange\u001b[0m\u001b[0;34m(\u001b[0m\u001b[0mdata1\u001b[0m\u001b[0;34m.\u001b[0m\u001b[0mshape\u001b[0m\u001b[0;34m[\u001b[0m\u001b[0;36m0\u001b[0m\u001b[0;34m]\u001b[0m\u001b[0;34m)\u001b[0m\u001b[0;34m:\u001b[0m\u001b[0;34m\u001b[0m\u001b[0;34m\u001b[0m\u001b[0m\n\u001b[0;32m---> 19\u001b[0;31m             \u001b[0mdata3\u001b[0m\u001b[0;34m[\u001b[0m\u001b[0mi\u001b[0m\u001b[0;34m,\u001b[0m\u001b[0mj\u001b[0m\u001b[0;34m]\u001b[0m \u001b[0;34m=\u001b[0m \u001b[0msum\u001b[0m\u001b[0;34m(\u001b[0m\u001b[0;34m[\u001b[0m\u001b[0mdata1\u001b[0m\u001b[0;34m[\u001b[0m\u001b[0mi\u001b[0m\u001b[0;34m,\u001b[0m \u001b[0mv\u001b[0m\u001b[0;34m]\u001b[0m \u001b[0;34m*\u001b[0m \u001b[0mdata2\u001b[0m\u001b[0;34m[\u001b[0m\u001b[0mv\u001b[0m\u001b[0;34m,\u001b[0m \u001b[0mj\u001b[0m\u001b[0;34m]\u001b[0m \u001b[0;32mfor\u001b[0m \u001b[0mv\u001b[0m \u001b[0;32min\u001b[0m \u001b[0mrange\u001b[0m\u001b[0;34m(\u001b[0m\u001b[0mdata1\u001b[0m\u001b[0;34m.\u001b[0m\u001b[0mshape\u001b[0m\u001b[0;34m[\u001b[0m\u001b[0;36m1\u001b[0m\u001b[0;34m]\u001b[0m\u001b[0;34m)\u001b[0m\u001b[0;34m]\u001b[0m\u001b[0;34m)\u001b[0m\u001b[0;34m\u001b[0m\u001b[0;34m\u001b[0m\u001b[0m\n\u001b[0m\u001b[1;32m     20\u001b[0m \u001b[0;34m\u001b[0m\u001b[0m\n\u001b[1;32m     21\u001b[0m     \u001b[0mend_time\u001b[0m \u001b[0;34m=\u001b[0m \u001b[0mtime\u001b[0m\u001b[0;34m.\u001b[0m\u001b[0mtime\u001b[0m\u001b[0;34m(\u001b[0m\u001b[0;34m)\u001b[0m\u001b[0;34m\u001b[0m\u001b[0;34m\u001b[0m\u001b[0m\n",
            "\u001b[0;32m<ipython-input-11-79fe2b1d36ee>\u001b[0m in \u001b[0;36m<listcomp>\u001b[0;34m(.0)\u001b[0m\n\u001b[1;32m     17\u001b[0m     \u001b[0;32mfor\u001b[0m \u001b[0mi\u001b[0m \u001b[0;32min\u001b[0m \u001b[0mrange\u001b[0m\u001b[0;34m(\u001b[0m\u001b[0mdata1\u001b[0m\u001b[0;34m.\u001b[0m\u001b[0mshape\u001b[0m\u001b[0;34m[\u001b[0m\u001b[0;36m0\u001b[0m\u001b[0;34m]\u001b[0m\u001b[0;34m)\u001b[0m\u001b[0;34m:\u001b[0m\u001b[0;34m\u001b[0m\u001b[0;34m\u001b[0m\u001b[0m\n\u001b[1;32m     18\u001b[0m         \u001b[0;32mfor\u001b[0m \u001b[0mj\u001b[0m \u001b[0;32min\u001b[0m \u001b[0mrange\u001b[0m\u001b[0;34m(\u001b[0m\u001b[0mdata1\u001b[0m\u001b[0;34m.\u001b[0m\u001b[0mshape\u001b[0m\u001b[0;34m[\u001b[0m\u001b[0;36m0\u001b[0m\u001b[0;34m]\u001b[0m\u001b[0;34m)\u001b[0m\u001b[0;34m:\u001b[0m\u001b[0;34m\u001b[0m\u001b[0;34m\u001b[0m\u001b[0m\n\u001b[0;32m---> 19\u001b[0;31m             \u001b[0mdata3\u001b[0m\u001b[0;34m[\u001b[0m\u001b[0mi\u001b[0m\u001b[0;34m,\u001b[0m\u001b[0mj\u001b[0m\u001b[0;34m]\u001b[0m \u001b[0;34m=\u001b[0m \u001b[0msum\u001b[0m\u001b[0;34m(\u001b[0m\u001b[0;34m[\u001b[0m\u001b[0mdata1\u001b[0m\u001b[0;34m[\u001b[0m\u001b[0mi\u001b[0m\u001b[0;34m,\u001b[0m \u001b[0mv\u001b[0m\u001b[0;34m]\u001b[0m \u001b[0;34m*\u001b[0m \u001b[0mdata2\u001b[0m\u001b[0;34m[\u001b[0m\u001b[0mv\u001b[0m\u001b[0;34m,\u001b[0m \u001b[0mj\u001b[0m\u001b[0;34m]\u001b[0m \u001b[0;32mfor\u001b[0m \u001b[0mv\u001b[0m \u001b[0;32min\u001b[0m \u001b[0mrange\u001b[0m\u001b[0;34m(\u001b[0m\u001b[0mdata1\u001b[0m\u001b[0;34m.\u001b[0m\u001b[0mshape\u001b[0m\u001b[0;34m[\u001b[0m\u001b[0;36m1\u001b[0m\u001b[0;34m]\u001b[0m\u001b[0;34m)\u001b[0m\u001b[0;34m]\u001b[0m\u001b[0;34m)\u001b[0m\u001b[0;34m\u001b[0m\u001b[0;34m\u001b[0m\u001b[0m\n\u001b[0m\u001b[1;32m     20\u001b[0m \u001b[0;34m\u001b[0m\u001b[0m\n\u001b[1;32m     21\u001b[0m     \u001b[0mend_time\u001b[0m \u001b[0;34m=\u001b[0m \u001b[0mtime\u001b[0m\u001b[0;34m.\u001b[0m\u001b[0mtime\u001b[0m\u001b[0;34m(\u001b[0m\u001b[0;34m)\u001b[0m\u001b[0;34m\u001b[0m\u001b[0;34m\u001b[0m\u001b[0m\n",
            "\u001b[0;31mKeyboardInterrupt\u001b[0m: "
          ]
        }
      ]
    },
    {
      "cell_type": "code",
      "source": [
        "num_iterations = 33\n",
        "time_results_np = []\n",
        " \n",
        "for iteration in range(1, num_iterations+1):\n",
        " \n",
        "    start_time = time.time()\n",
        "    \n",
        "    data1 = np.ones(shape=(10*iteration, 10*iteration), dtype=float)\n",
        "    data2 = np.ones(shape=(10*iteration, 10*iteration), dtype=float)\n",
        "    data3 = np.zeros(shape=(10*iteration, 10*iteration), dtype=float)\n",
        "    data3 = data1.dot(data2)\n",
        "    \n",
        "    end_time = time.time()\n",
        "    \n",
        "    print('{} - :{}'.format(iteration, end_time - start_time))    \n",
        "    time_results_np.append(end_time - start_time)"
      ],
      "metadata": {
        "colab": {
          "base_uri": "https://localhost:8080/"
        },
        "id": "w1FV4Urb4NRs",
        "outputId": "51b53525-2543-477d-bdbc-9b437beedc59"
      },
      "execution_count": null,
      "outputs": [
        {
          "output_type": "stream",
          "name": "stdout",
          "text": [
            "1 - :0.0001232624053955078\n",
            "2 - :8.988380432128906e-05\n",
            "3 - :9.298324584960938e-05\n",
            "4 - :8.034706115722656e-05\n",
            "5 - :0.00015783309936523438\n",
            "6 - :0.00013017654418945312\n",
            "7 - :0.010871171951293945\n",
            "8 - :0.00046539306640625\n",
            "9 - :0.0003933906555175781\n",
            "10 - :0.0008785724639892578\n",
            "11 - :0.0005576610565185547\n",
            "12 - :0.0005490779876708984\n",
            "13 - :0.0005478858947753906\n",
            "14 - :0.0007174015045166016\n",
            "15 - :0.0020799636840820312\n",
            "16 - :0.0014729499816894531\n",
            "17 - :0.002588033676147461\n",
            "18 - :0.0006506443023681641\n",
            "19 - :0.0007812976837158203\n",
            "20 - :0.0008831024169921875\n",
            "21 - :0.004821300506591797\n",
            "22 - :0.001157522201538086\n",
            "23 - :0.0011210441589355469\n",
            "24 - :0.004773855209350586\n",
            "25 - :0.0015511512756347656\n",
            "26 - :0.0016291141510009766\n",
            "27 - :0.006297588348388672\n",
            "28 - :0.008725166320800781\n",
            "29 - :0.0027570724487304688\n",
            "30 - :0.002590179443359375\n",
            "31 - :0.007380485534667969\n",
            "32 - :0.0025980472564697266\n",
            "33 - :0.006885051727294922\n"
          ]
        }
      ]
    },
    {
      "cell_type": "code",
      "source": [
        "fig = plt.figure()\n",
        "plt.scatter(range(num_iterations), time_results_loop, s=10, c='b', marker=\"s\", label='loop')\n",
        "plt.scatter(range(num_iterations), time_results_np, s=10, c='r', marker=\"o\", label='numpy')\n",
        "plt.legend(loc='upper left');\n",
        "plt.show()"
      ],
      "metadata": {
        "colab": {
          "base_uri": "https://localhost:8080/",
          "height": 267
        },
        "id": "Aq5ZghX74tXr",
        "outputId": "8668af47-5163-41b3-ff36-68247f3ee2ea"
      },
      "execution_count": null,
      "outputs": [
        {
          "output_type": "display_data",
          "data": {
            "text/plain": [
              "<Figure size 432x288 with 1 Axes>"
            ],
            "image/png": "[encoded data removed]"
          },
          "metadata": {
            "needs_background": "light"
          }
        }
      ]
    }
  ]
}